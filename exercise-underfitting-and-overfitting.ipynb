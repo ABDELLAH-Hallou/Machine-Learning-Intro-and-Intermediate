{
 "cells": [
  {
   "cell_type": "markdown",
   "id": "e9f897f6",
   "metadata": {
    "papermill": {
     "duration": 0.013862,
     "end_time": "2022-05-01T16:19:23.891585",
     "exception": false,
     "start_time": "2022-05-01T16:19:23.877723",
     "status": "completed"
    },
    "tags": []
   },
   "source": [
    "**This notebook is an exercise in the [Introduction to Machine Learning](https://www.kaggle.com/learn/intro-to-machine-learning) course.  You can reference the tutorial at [this link](https://www.kaggle.com/dansbecker/underfitting-and-overfitting).**\n",
    "\n",
    "---\n"
   ]
  },
  {
   "cell_type": "markdown",
   "id": "2ac05f7c",
   "metadata": {
    "papermill": {
     "duration": 0.011655,
     "end_time": "2022-05-01T16:19:23.915676",
     "exception": false,
     "start_time": "2022-05-01T16:19:23.904021",
     "status": "completed"
    },
    "tags": []
   },
   "source": [
    "## Recap\n",
    "You've built your first model, and now it's time to optimize the size of the tree to make better predictions. Run this cell to set up your coding environment where the previous step left off."
   ]
  },
  {
   "cell_type": "code",
   "execution_count": 1,
   "id": "575ac124",
   "metadata": {
    "execution": {
     "iopub.execute_input": "2022-05-01T16:19:23.943483Z",
     "iopub.status.busy": "2022-05-01T16:19:23.943017Z",
     "iopub.status.idle": "2022-05-01T16:19:25.403661Z",
     "shell.execute_reply": "2022-05-01T16:19:25.402599Z"
    },
    "papermill": {
     "duration": 1.478039,
     "end_time": "2022-05-01T16:19:25.406048",
     "exception": false,
     "start_time": "2022-05-01T16:19:23.928009",
     "status": "completed"
    },
    "tags": []
   },
   "outputs": [
    {
     "name": "stdout",
     "output_type": "stream",
     "text": [
      "Validation MAE: 29,653\n",
      "\n",
      "Setup complete\n"
     ]
    }
   ],
   "source": [
    "# Code you have previously used to load data\n",
    "import pandas as pd\n",
    "from sklearn.metrics import mean_absolute_error\n",
    "from sklearn.model_selection import train_test_split\n",
    "from sklearn.tree import DecisionTreeRegressor\n",
    "\n",
    "\n",
    "# Path of the file to read\n",
    "iowa_file_path = '../input/home-data-for-ml-course/train.csv'\n",
    "\n",
    "home_data = pd.read_csv(iowa_file_path)\n",
    "# Create target object and call it y\n",
    "y = home_data.SalePrice\n",
    "# Create X\n",
    "features = ['LotArea', 'YearBuilt', '1stFlrSF', '2ndFlrSF', 'FullBath', 'BedroomAbvGr', 'TotRmsAbvGrd']\n",
    "X = home_data[features]\n",
    "\n",
    "# Split into validation and training data\n",
    "train_X, val_X, train_y, val_y = train_test_split(X, y, random_state=1)\n",
    "\n",
    "# Specify Model\n",
    "iowa_model = DecisionTreeRegressor(random_state=1)\n",
    "# Fit Model\n",
    "iowa_model.fit(train_X, train_y)\n",
    "\n",
    "# Make validation predictions and calculate mean absolute error\n",
    "val_predictions = iowa_model.predict(val_X)\n",
    "val_mae = mean_absolute_error(val_predictions, val_y)\n",
    "print(\"Validation MAE: {:,.0f}\".format(val_mae))\n",
    "\n",
    "# Set up code checking\n",
    "from learntools.core import binder\n",
    "binder.bind(globals())\n",
    "from learntools.machine_learning.ex5 import *\n",
    "print(\"\\nSetup complete\")"
   ]
  },
  {
   "cell_type": "markdown",
   "id": "ce23f3e9",
   "metadata": {
    "papermill": {
     "duration": 0.011791,
     "end_time": "2022-05-01T16:19:25.436850",
     "exception": false,
     "start_time": "2022-05-01T16:19:25.425059",
     "status": "completed"
    },
    "tags": []
   },
   "source": [
    "# Exercises\n",
    "You could write the function `get_mae` yourself. For now, we'll supply it. This is the same function you read about in the previous lesson. Just run the cell below."
   ]
  },
  {
   "cell_type": "code",
   "execution_count": 2,
   "id": "c8acd330",
   "metadata": {
    "execution": {
     "iopub.execute_input": "2022-05-01T16:19:25.464293Z",
     "iopub.status.busy": "2022-05-01T16:19:25.463435Z",
     "iopub.status.idle": "2022-05-01T16:19:25.469003Z",
     "shell.execute_reply": "2022-05-01T16:19:25.468314Z"
    },
    "papermill": {
     "duration": 0.021737,
     "end_time": "2022-05-01T16:19:25.471042",
     "exception": false,
     "start_time": "2022-05-01T16:19:25.449305",
     "status": "completed"
    },
    "tags": []
   },
   "outputs": [],
   "source": [
    "def get_mae(max_leaf_nodes, train_X, val_X, train_y, val_y):\n",
    "    model = DecisionTreeRegressor(max_leaf_nodes=max_leaf_nodes, random_state=0)\n",
    "    model.fit(train_X, train_y)\n",
    "    preds_val = model.predict(val_X)\n",
    "    mae = mean_absolute_error(val_y, preds_val)\n",
    "    return(mae)"
   ]
  },
  {
   "cell_type": "markdown",
   "id": "bda53803",
   "metadata": {
    "papermill": {
     "duration": 0.012667,
     "end_time": "2022-05-01T16:19:25.496367",
     "exception": false,
     "start_time": "2022-05-01T16:19:25.483700",
     "status": "completed"
    },
    "tags": []
   },
   "source": [
    "## Step 1: Compare Different Tree Sizes\n",
    "Write a loop that tries the following values for *max_leaf_nodes* from a set of possible values.\n",
    "\n",
    "Call the *get_mae* function on each value of max_leaf_nodes. Store the output in some way that allows you to select the value of `max_leaf_nodes` that gives the most accurate model on your data."
   ]
  },
  {
   "cell_type": "code",
   "execution_count": 3,
   "id": "18033fd1",
   "metadata": {
    "execution": {
     "iopub.execute_input": "2022-05-01T16:19:25.522798Z",
     "iopub.status.busy": "2022-05-01T16:19:25.522493Z",
     "iopub.status.idle": "2022-05-01T16:19:25.584966Z",
     "shell.execute_reply": "2022-05-01T16:19:25.583859Z"
    },
    "papermill": {
     "duration": 0.078681,
     "end_time": "2022-05-01T16:19:25.587280",
     "exception": false,
     "start_time": "2022-05-01T16:19:25.508599",
     "status": "completed"
    },
    "tags": []
   },
   "outputs": [
    {
     "name": "stdout",
     "output_type": "stream",
     "text": [
      "5  :  35044.51299744237\n",
      "25  :  29016.41319191076\n",
      "50  :  27405.930473214907\n",
      "100  :  27282.50803885739\n",
      "250  :  27893.822225701646\n",
      "500  :  29454.18598068598\n",
      "100\n"
     ]
    },
    {
     "data": {
      "application/javascript": [
       "parent.postMessage({\"jupyterEvent\": \"custom.exercise_interaction\", \"data\": {\"outcomeType\": 1, \"valueTowardsCompletion\": 0.5, \"interactionType\": 1, \"questionType\": 1, \"questionId\": \"1_BestTreeSize\", \"learnToolsVersion\": \"0.3.4\", \"failureMessage\": \"\", \"exceptionClass\": \"\", \"trace\": \"\"}}, \"*\")"
      ],
      "text/plain": [
       "<IPython.core.display.Javascript object>"
      ]
     },
     "metadata": {},
     "output_type": "display_data"
    },
    {
     "data": {
      "text/markdown": [
       "<span style=\"color:#33cc33\">Correct</span>"
      ],
      "text/plain": [
       "Correct"
      ]
     },
     "metadata": {},
     "output_type": "display_data"
    }
   ],
   "source": [
    "candidate_max_leaf_nodes = [5, 25, 50, 100, 250, 500]\n",
    "# Write loop to find the ideal tree size from candidate_max_leaf_nodes\n",
    "best_mae ={}\n",
    "for max_leaf_nodes in candidate_max_leaf_nodes:\n",
    "    my_mae = get_mae(max_leaf_nodes, train_X, val_X, train_y, val_y)\n",
    "    print(max_leaf_nodes,\" : \",my_mae)\n",
    "    best_mae[max_leaf_nodes]=my_mae\n",
    "# Store the best value of max_leaf_nodes (it will be either 5, 25, 50, 100, 250 or 500)\n",
    "best_tree_size = min(best_mae, key=best_mae.get)\n",
    "print(best_tree_size)\n",
    "\n",
    "# Check your answer\n",
    "step_1.check()"
   ]
  },
  {
   "cell_type": "code",
   "execution_count": 4,
   "id": "5158bd86",
   "metadata": {
    "execution": {
     "iopub.execute_input": "2022-05-01T16:19:25.618472Z",
     "iopub.status.busy": "2022-05-01T16:19:25.618159Z",
     "iopub.status.idle": "2022-05-01T16:19:25.622157Z",
     "shell.execute_reply": "2022-05-01T16:19:25.621189Z"
    },
    "papermill": {
     "duration": 0.022606,
     "end_time": "2022-05-01T16:19:25.624189",
     "exception": false,
     "start_time": "2022-05-01T16:19:25.601583",
     "status": "completed"
    },
    "tags": []
   },
   "outputs": [],
   "source": [
    "# The lines below will show you a hint or the solution.\n",
    "# step_1.hint() \n",
    "# step_1.solution()"
   ]
  },
  {
   "cell_type": "markdown",
   "id": "0bb5e263",
   "metadata": {
    "papermill": {
     "duration": 0.015008,
     "end_time": "2022-05-01T16:19:25.654168",
     "exception": false,
     "start_time": "2022-05-01T16:19:25.639160",
     "status": "completed"
    },
    "tags": []
   },
   "source": [
    "## Step 2: Fit Model Using All Data\n",
    "You know the best tree size. If you were going to deploy this model in practice, you would make it even more accurate by using all of the data and keeping that tree size.  That is, you don't need to hold out the validation data now that you've made all your modeling decisions."
   ]
  },
  {
   "cell_type": "code",
   "execution_count": 5,
   "id": "f7693582",
   "metadata": {
    "execution": {
     "iopub.execute_input": "2022-05-01T16:19:25.684489Z",
     "iopub.status.busy": "2022-05-01T16:19:25.684213Z",
     "iopub.status.idle": "2022-05-01T16:19:25.706767Z",
     "shell.execute_reply": "2022-05-01T16:19:25.705579Z"
    },
    "papermill": {
     "duration": 0.040304,
     "end_time": "2022-05-01T16:19:25.708994",
     "exception": false,
     "start_time": "2022-05-01T16:19:25.668690",
     "status": "completed"
    },
    "tags": []
   },
   "outputs": [
    {
     "name": "stdout",
     "output_type": "stream",
     "text": [
      "Validation MAE: 7459.625570776255\n"
     ]
    },
    {
     "data": {
      "application/javascript": [
       "parent.postMessage({\"jupyterEvent\": \"custom.exercise_interaction\", \"data\": {\"outcomeType\": 1, \"valueTowardsCompletion\": 0.5, \"interactionType\": 1, \"questionType\": 2, \"questionId\": \"2_FitModelWithAllData\", \"learnToolsVersion\": \"0.3.4\", \"failureMessage\": \"\", \"exceptionClass\": \"\", \"trace\": \"\"}}, \"*\")"
      ],
      "text/plain": [
       "<IPython.core.display.Javascript object>"
      ]
     },
     "metadata": {},
     "output_type": "display_data"
    },
    {
     "data": {
      "text/markdown": [
       "<span style=\"color:#33cc33\">Correct</span>"
      ],
      "text/plain": [
       "Correct"
      ]
     },
     "metadata": {},
     "output_type": "display_data"
    }
   ],
   "source": [
    "# Fill in argument to make optimal size and uncomment\n",
    "final_model = DecisionTreeRegressor(random_state=1,max_leaf_nodes=100 )\n",
    "\n",
    "# fit the final model and uncomment the next two lines\n",
    "final_model.fit(X,y)\n",
    "val_predictions = iowa_model.predict(X)\n",
    "val_mae = mean_absolute_error(val_predictions, y)\n",
    "print(\"Validation MAE:\",val_mae)\n",
    "# Check your answer\n",
    "step_2.check()"
   ]
  },
  {
   "cell_type": "code",
   "execution_count": 6,
   "id": "7d32da82",
   "metadata": {
    "execution": {
     "iopub.execute_input": "2022-05-01T16:19:25.742344Z",
     "iopub.status.busy": "2022-05-01T16:19:25.742039Z",
     "iopub.status.idle": "2022-05-01T16:19:25.745527Z",
     "shell.execute_reply": "2022-05-01T16:19:25.744528Z"
    },
    "papermill": {
     "duration": 0.02246,
     "end_time": "2022-05-01T16:19:25.747493",
     "exception": false,
     "start_time": "2022-05-01T16:19:25.725033",
     "status": "completed"
    },
    "tags": []
   },
   "outputs": [],
   "source": [
    "# step_2.hint()\n",
    "# step_2.solution()"
   ]
  },
  {
   "cell_type": "markdown",
   "id": "4730ff90",
   "metadata": {
    "papermill": {
     "duration": 0.015455,
     "end_time": "2022-05-01T16:19:25.778556",
     "exception": false,
     "start_time": "2022-05-01T16:19:25.763101",
     "status": "completed"
    },
    "tags": []
   },
   "source": [
    "You've tuned this model and improved your results. But we are still using Decision Tree models, which are not very sophisticated by modern machine learning standards. In the next step you will learn to use Random Forests to improve your models even more.\n",
    "\n",
    "# Keep Going\n",
    "\n",
    "You are ready for **[Random Forests](https://www.kaggle.com/dansbecker/random-forests).**\n"
   ]
  },
  {
   "cell_type": "markdown",
   "id": "bc8e7e66",
   "metadata": {
    "papermill": {
     "duration": 0.015208,
     "end_time": "2022-05-01T16:19:25.809246",
     "exception": false,
     "start_time": "2022-05-01T16:19:25.794038",
     "status": "completed"
    },
    "tags": []
   },
   "source": [
    "---\n",
    "\n",
    "\n",
    "\n",
    "\n",
    "*Have questions or comments? Visit the [Learn Discussion forum](https://www.kaggle.com/learn-forum/161285) to chat with other Learners.*"
   ]
  }
 ],
 "metadata": {
  "kernelspec": {
   "display_name": "Python 3",
   "language": "python",
   "name": "python3"
  },
  "language_info": {
   "codemirror_mode": {
    "name": "ipython",
    "version": 3
   },
   "file_extension": ".py",
   "mimetype": "text/x-python",
   "name": "python",
   "nbconvert_exporter": "python",
   "pygments_lexer": "ipython3",
   "version": "3.7.12"
  },
  "papermill": {
   "default_parameters": {},
   "duration": 13.428936,
   "end_time": "2022-05-01T16:19:26.546465",
   "environment_variables": {},
   "exception": null,
   "input_path": "__notebook__.ipynb",
   "output_path": "__notebook__.ipynb",
   "parameters": {},
   "start_time": "2022-05-01T16:19:13.117529",
   "version": "2.3.4"
  }
 },
 "nbformat": 4,
 "nbformat_minor": 5
}
