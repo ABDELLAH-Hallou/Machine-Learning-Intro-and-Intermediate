{
 "cells": [
  {
   "cell_type": "markdown",
   "id": "f7d2af8d",
   "metadata": {
    "papermill": {
     "duration": 0.018061,
     "end_time": "2022-05-01T16:17:24.770393",
     "exception": false,
     "start_time": "2022-05-01T16:17:24.752332",
     "status": "completed"
    },
    "tags": []
   },
   "source": [
    "**This notebook is an exercise in the [Introduction to Machine Learning](https://www.kaggle.com/learn/intro-to-machine-learning) course.  You can reference the tutorial at [this link](https://www.kaggle.com/dansbecker/model-validation).**\n",
    "\n",
    "---\n"
   ]
  },
  {
   "cell_type": "markdown",
   "id": "e0a4efe6",
   "metadata": {
    "papermill": {
     "duration": 0.01649,
     "end_time": "2022-05-01T16:17:24.803846",
     "exception": false,
     "start_time": "2022-05-01T16:17:24.787356",
     "status": "completed"
    },
    "tags": []
   },
   "source": [
    "## Recap\n",
    "You've built a model. In this exercise you will test how good your model is.\n",
    "\n",
    "Run the cell below to set up your coding environment where the previous exercise left off."
   ]
  },
  {
   "cell_type": "code",
   "execution_count": 1,
   "id": "f3ad3f2a",
   "metadata": {
    "execution": {
     "iopub.execute_input": "2022-05-01T16:17:24.839453Z",
     "iopub.status.busy": "2022-05-01T16:17:24.839049Z",
     "iopub.status.idle": "2022-05-01T16:17:26.274085Z",
     "shell.execute_reply": "2022-05-01T16:17:26.273138Z"
    },
    "papermill": {
     "duration": 1.45599,
     "end_time": "2022-05-01T16:17:26.276726",
     "exception": false,
     "start_time": "2022-05-01T16:17:24.820736",
     "status": "completed"
    },
    "tags": []
   },
   "outputs": [
    {
     "name": "stdout",
     "output_type": "stream",
     "text": [
      "First in-sample predictions: [208500. 181500. 223500. 140000. 250000.]\n",
      "Actual target values for those homes: [208500, 181500, 223500, 140000, 250000]\n",
      "Setup Complete\n"
     ]
    }
   ],
   "source": [
    "# Code you have previously used to load data\n",
    "import pandas as pd\n",
    "from sklearn.tree import DecisionTreeRegressor\n",
    "\n",
    "# Path of the file to read\n",
    "iowa_file_path = '../input/home-data-for-ml-course/train.csv'\n",
    "\n",
    "home_data = pd.read_csv(iowa_file_path)\n",
    "y = home_data.SalePrice\n",
    "feature_columns = ['LotArea', 'YearBuilt', '1stFlrSF', '2ndFlrSF', 'FullBath', 'BedroomAbvGr', 'TotRmsAbvGrd']\n",
    "X = home_data[feature_columns]\n",
    "\n",
    "# Specify Model\n",
    "iowa_model = DecisionTreeRegressor()\n",
    "# Fit Model\n",
    "iowa_model.fit(X, y)\n",
    "\n",
    "print(\"First in-sample predictions:\", iowa_model.predict(X.head()))\n",
    "print(\"Actual target values for those homes:\", y.head().tolist())\n",
    "\n",
    "# Set up code checking\n",
    "from learntools.core import binder\n",
    "binder.bind(globals())\n",
    "from learntools.machine_learning.ex4 import *\n",
    "print(\"Setup Complete\")"
   ]
  },
  {
   "cell_type": "markdown",
   "id": "e87fe615",
   "metadata": {
    "papermill": {
     "duration": 0.01843,
     "end_time": "2022-05-01T16:17:26.314595",
     "exception": false,
     "start_time": "2022-05-01T16:17:26.296165",
     "status": "completed"
    },
    "tags": []
   },
   "source": [
    "# Exercises\n",
    "\n",
    "## Step 1: Split Your Data\n",
    "Use the `train_test_split` function to split up your data.\n",
    "\n",
    "Give it the argument `random_state=1` so the `check` functions know what to expect when verifying your code.\n",
    "\n",
    "Recall, your features are loaded in the DataFrame **X** and your target is loaded in **y**.\n"
   ]
  },
  {
   "cell_type": "code",
   "execution_count": 2,
   "id": "bb5c12ce",
   "metadata": {
    "execution": {
     "iopub.execute_input": "2022-05-01T16:17:26.351975Z",
     "iopub.status.busy": "2022-05-01T16:17:26.351641Z",
     "iopub.status.idle": "2022-05-01T16:17:26.368653Z",
     "shell.execute_reply": "2022-05-01T16:17:26.367719Z"
    },
    "papermill": {
     "duration": 0.038038,
     "end_time": "2022-05-01T16:17:26.370691",
     "exception": false,
     "start_time": "2022-05-01T16:17:26.332653",
     "status": "completed"
    },
    "tags": []
   },
   "outputs": [
    {
     "data": {
      "application/javascript": [
       "parent.postMessage({\"jupyterEvent\": \"custom.exercise_interaction\", \"data\": {\"outcomeType\": 1, \"valueTowardsCompletion\": 0.25, \"interactionType\": 1, \"questionType\": 2, \"questionId\": \"1_SplitData\", \"learnToolsVersion\": \"0.3.4\", \"failureMessage\": \"\", \"exceptionClass\": \"\", \"trace\": \"\"}}, \"*\")"
      ],
      "text/plain": [
       "<IPython.core.display.Javascript object>"
      ]
     },
     "metadata": {},
     "output_type": "display_data"
    },
    {
     "data": {
      "text/markdown": [
       "<span style=\"color:#33cc33\">Correct</span>"
      ],
      "text/plain": [
       "Correct"
      ]
     },
     "metadata": {},
     "output_type": "display_data"
    }
   ],
   "source": [
    "# Import the train_test_split function and uncomment\n",
    "from sklearn.model_selection import train_test_split\n",
    "\n",
    "# fill in and uncomment\n",
    "train_X, val_X, train_y, val_y = train_test_split(X, y, random_state=1)\n",
    "\n",
    "# Check your answer\n",
    "step_1.check()"
   ]
  },
  {
   "cell_type": "code",
   "execution_count": 3,
   "id": "9080d897",
   "metadata": {
    "execution": {
     "iopub.execute_input": "2022-05-01T16:17:26.410226Z",
     "iopub.status.busy": "2022-05-01T16:17:26.409122Z",
     "iopub.status.idle": "2022-05-01T16:17:26.412961Z",
     "shell.execute_reply": "2022-05-01T16:17:26.412389Z"
    },
    "papermill": {
     "duration": 0.02587,
     "end_time": "2022-05-01T16:17:26.414841",
     "exception": false,
     "start_time": "2022-05-01T16:17:26.388971",
     "status": "completed"
    },
    "tags": []
   },
   "outputs": [],
   "source": [
    "# The lines below will show you a hint or the solution.\n",
    "# step_1.hint() \n",
    "# step_1.solution()\n"
   ]
  },
  {
   "cell_type": "markdown",
   "id": "f09996ed",
   "metadata": {
    "papermill": {
     "duration": 0.018046,
     "end_time": "2022-05-01T16:17:26.451703",
     "exception": false,
     "start_time": "2022-05-01T16:17:26.433657",
     "status": "completed"
    },
    "tags": []
   },
   "source": [
    "## Step 2: Specify and Fit the Model\n",
    "\n",
    "Create a `DecisionTreeRegressor` model and fit it to the relevant data.\n",
    "Set `random_state` to 1 again when creating the model."
   ]
  },
  {
   "cell_type": "code",
   "execution_count": 4,
   "id": "5134a4fe",
   "metadata": {
    "execution": {
     "iopub.execute_input": "2022-05-01T16:17:26.491458Z",
     "iopub.status.busy": "2022-05-01T16:17:26.491067Z",
     "iopub.status.idle": "2022-05-01T16:17:26.517222Z",
     "shell.execute_reply": "2022-05-01T16:17:26.516397Z"
    },
    "papermill": {
     "duration": 0.04857,
     "end_time": "2022-05-01T16:17:26.519356",
     "exception": false,
     "start_time": "2022-05-01T16:17:26.470786",
     "status": "completed"
    },
    "tags": []
   },
   "outputs": [
    {
     "name": "stdout",
     "output_type": "stream",
     "text": [
      "[186500. 184000. 130000.  92000. 164500. 220000. 335000. 144152. 215000.\n",
      " 262000.]\n",
      "[186500. 184000. 130000.  92000. 164500. 220000. 335000. 144152. 215000.\n",
      " 262000.]\n"
     ]
    },
    {
     "data": {
      "application/javascript": [
       "parent.postMessage({\"jupyterEvent\": \"custom.exercise_interaction\", \"data\": {\"outcomeType\": 1, \"valueTowardsCompletion\": 0.25, \"interactionType\": 1, \"questionType\": 2, \"questionId\": \"2_FitModelWithTrain\", \"learnToolsVersion\": \"0.3.4\", \"failureMessage\": \"\", \"exceptionClass\": \"\", \"trace\": \"\"}}, \"*\")"
      ],
      "text/plain": [
       "<IPython.core.display.Javascript object>"
      ]
     },
     "metadata": {},
     "output_type": "display_data"
    },
    {
     "data": {
      "text/markdown": [
       "<span style=\"color:#33cc33\">Correct</span>"
      ],
      "text/plain": [
       "Correct"
      ]
     },
     "metadata": {},
     "output_type": "display_data"
    }
   ],
   "source": [
    "# You imported DecisionTreeRegressor in your last exercise\n",
    "# and that code has been copied to the setup code above. So, no need to\n",
    "# import it again\n",
    "\n",
    "# Specify the model\n",
    "iowa_model = DecisionTreeRegressor(random_state=1)\n",
    "\n",
    "# Fit iowa_model with the training data.\n",
    "iowa_model.fit(train_X, train_y)\n",
    "\n",
    "# Check your answer\n",
    "step_2.check()"
   ]
  },
  {
   "cell_type": "code",
   "execution_count": 5,
   "id": "3fb07892",
   "metadata": {
    "execution": {
     "iopub.execute_input": "2022-05-01T16:17:26.561177Z",
     "iopub.status.busy": "2022-05-01T16:17:26.560873Z",
     "iopub.status.idle": "2022-05-01T16:17:26.564826Z",
     "shell.execute_reply": "2022-05-01T16:17:26.563897Z"
    },
    "papermill": {
     "duration": 0.027229,
     "end_time": "2022-05-01T16:17:26.566917",
     "exception": false,
     "start_time": "2022-05-01T16:17:26.539688",
     "status": "completed"
    },
    "tags": []
   },
   "outputs": [],
   "source": [
    "# step_2.hint()\n",
    "# step_2.solution()"
   ]
  },
  {
   "cell_type": "markdown",
   "id": "7fcc81d4",
   "metadata": {
    "papermill": {
     "duration": 0.019582,
     "end_time": "2022-05-01T16:17:26.607510",
     "exception": false,
     "start_time": "2022-05-01T16:17:26.587928",
     "status": "completed"
    },
    "tags": []
   },
   "source": [
    "## Step 3: Make Predictions with Validation data\n"
   ]
  },
  {
   "cell_type": "code",
   "execution_count": 6,
   "id": "a95cde45",
   "metadata": {
    "execution": {
     "iopub.execute_input": "2022-05-01T16:17:26.648702Z",
     "iopub.status.busy": "2022-05-01T16:17:26.648434Z",
     "iopub.status.idle": "2022-05-01T16:17:26.659079Z",
     "shell.execute_reply": "2022-05-01T16:17:26.658277Z"
    },
    "papermill": {
     "duration": 0.033741,
     "end_time": "2022-05-01T16:17:26.660979",
     "exception": false,
     "start_time": "2022-05-01T16:17:26.627238",
     "status": "completed"
    },
    "tags": []
   },
   "outputs": [
    {
     "data": {
      "application/javascript": [
       "parent.postMessage({\"jupyterEvent\": \"custom.exercise_interaction\", \"data\": {\"outcomeType\": 1, \"valueTowardsCompletion\": 0.25, \"interactionType\": 1, \"questionType\": 2, \"questionId\": \"3_ValPreds\", \"learnToolsVersion\": \"0.3.4\", \"failureMessage\": \"\", \"exceptionClass\": \"\", \"trace\": \"\"}}, \"*\")"
      ],
      "text/plain": [
       "<IPython.core.display.Javascript object>"
      ]
     },
     "metadata": {},
     "output_type": "display_data"
    },
    {
     "data": {
      "text/markdown": [
       "<span style=\"color:#33cc33\">Correct</span>"
      ],
      "text/plain": [
       "Correct"
      ]
     },
     "metadata": {},
     "output_type": "display_data"
    }
   ],
   "source": [
    "# Predict with all validation observations\n",
    "val_predictions = iowa_model.predict(val_X)\n",
    "\n",
    "# Check your answer\n",
    "step_3.check()"
   ]
  },
  {
   "cell_type": "code",
   "execution_count": 7,
   "id": "c21ac5a4",
   "metadata": {
    "execution": {
     "iopub.execute_input": "2022-05-01T16:17:26.706286Z",
     "iopub.status.busy": "2022-05-01T16:17:26.705998Z",
     "iopub.status.idle": "2022-05-01T16:17:26.709452Z",
     "shell.execute_reply": "2022-05-01T16:17:26.708752Z"
    },
    "papermill": {
     "duration": 0.028018,
     "end_time": "2022-05-01T16:17:26.711451",
     "exception": false,
     "start_time": "2022-05-01T16:17:26.683433",
     "status": "completed"
    },
    "tags": []
   },
   "outputs": [],
   "source": [
    "# step_3.hint()\n",
    "# step_3.solution()"
   ]
  },
  {
   "cell_type": "markdown",
   "id": "5aed2a2f",
   "metadata": {
    "papermill": {
     "duration": 0.020559,
     "end_time": "2022-05-01T16:17:26.753020",
     "exception": false,
     "start_time": "2022-05-01T16:17:26.732461",
     "status": "completed"
    },
    "tags": []
   },
   "source": [
    "Inspect your predictions and actual values from validation data."
   ]
  },
  {
   "cell_type": "code",
   "execution_count": 8,
   "id": "82e36e57",
   "metadata": {
    "execution": {
     "iopub.execute_input": "2022-05-01T16:17:26.796183Z",
     "iopub.status.busy": "2022-05-01T16:17:26.795861Z",
     "iopub.status.idle": "2022-05-01T16:17:26.802882Z",
     "shell.execute_reply": "2022-05-01T16:17:26.801624Z"
    },
    "papermill": {
     "duration": 0.031404,
     "end_time": "2022-05-01T16:17:26.805275",
     "exception": false,
     "start_time": "2022-05-01T16:17:26.773871",
     "status": "completed"
    },
    "tags": []
   },
   "outputs": [
    {
     "name": "stdout",
     "output_type": "stream",
     "text": [
      "[186500. 184000. 130000.  92000. 164500. 220000.]\n",
      "258     231500\n",
      "267     179500\n",
      "288     122000\n",
      "649      84500\n",
      "1233    142000\n",
      "167     325624\n",
      "Name: SalePrice, dtype: int64\n"
     ]
    }
   ],
   "source": [
    "# print the top few validation predictions\n",
    "print(val_predictions[:6])\n",
    "# print the top few actual prices from validation data\n",
    "print(val_y[:6])"
   ]
  },
  {
   "cell_type": "markdown",
   "id": "0a9cc23c",
   "metadata": {
    "papermill": {
     "duration": 0.021033,
     "end_time": "2022-05-01T16:17:26.849536",
     "exception": false,
     "start_time": "2022-05-01T16:17:26.828503",
     "status": "completed"
    },
    "tags": []
   },
   "source": [
    "What do you notice that is different from what you saw with in-sample predictions (which are printed after the top code cell in this page).\n",
    "\n",
    "Do you remember why validation predictions differ from in-sample (or training) predictions? This is an important idea from the last lesson.\n",
    "\n",
    "## Step 4: Calculate the Mean Absolute Error in Validation Data\n"
   ]
  },
  {
   "cell_type": "code",
   "execution_count": 9,
   "id": "357b6185",
   "metadata": {
    "execution": {
     "iopub.execute_input": "2022-05-01T16:17:26.893551Z",
     "iopub.status.busy": "2022-05-01T16:17:26.893232Z",
     "iopub.status.idle": "2022-05-01T16:17:26.904515Z",
     "shell.execute_reply": "2022-05-01T16:17:26.903396Z"
    },
    "papermill": {
     "duration": 0.035642,
     "end_time": "2022-05-01T16:17:26.906549",
     "exception": false,
     "start_time": "2022-05-01T16:17:26.870907",
     "status": "completed"
    },
    "tags": []
   },
   "outputs": [
    {
     "name": "stdout",
     "output_type": "stream",
     "text": [
      "29652.931506849316\n"
     ]
    },
    {
     "data": {
      "application/javascript": [
       "parent.postMessage({\"jupyterEvent\": \"custom.exercise_interaction\", \"data\": {\"outcomeType\": 1, \"valueTowardsCompletion\": 0.25, \"interactionType\": 1, \"questionType\": 1, \"questionId\": \"4_MAE\", \"learnToolsVersion\": \"0.3.4\", \"failureMessage\": \"\", \"exceptionClass\": \"\", \"trace\": \"\"}}, \"*\")"
      ],
      "text/plain": [
       "<IPython.core.display.Javascript object>"
      ]
     },
     "metadata": {},
     "output_type": "display_data"
    },
    {
     "data": {
      "text/markdown": [
       "<span style=\"color:#33cc33\">Correct</span>"
      ],
      "text/plain": [
       "Correct"
      ]
     },
     "metadata": {},
     "output_type": "display_data"
    }
   ],
   "source": [
    "from sklearn.metrics import mean_absolute_error\n",
    "val_mae = mean_absolute_error(val_y, val_predictions)\n",
    "\n",
    "# uncomment following line to see the validation_mae\n",
    "print(val_mae)\n",
    "\n",
    "# Check your answer\n",
    "step_4.check()"
   ]
  },
  {
   "cell_type": "code",
   "execution_count": 10,
   "id": "3a56c364",
   "metadata": {
    "execution": {
     "iopub.execute_input": "2022-05-01T16:17:26.954013Z",
     "iopub.status.busy": "2022-05-01T16:17:26.953732Z",
     "iopub.status.idle": "2022-05-01T16:17:26.957065Z",
     "shell.execute_reply": "2022-05-01T16:17:26.956267Z"
    },
    "papermill": {
     "duration": 0.029509,
     "end_time": "2022-05-01T16:17:26.959080",
     "exception": false,
     "start_time": "2022-05-01T16:17:26.929571",
     "status": "completed"
    },
    "tags": []
   },
   "outputs": [],
   "source": [
    "# step_4.hint()\n",
    "# step_4.solution()"
   ]
  },
  {
   "cell_type": "markdown",
   "id": "5b00826b",
   "metadata": {
    "papermill": {
     "duration": 0.023727,
     "end_time": "2022-05-01T16:17:27.006117",
     "exception": false,
     "start_time": "2022-05-01T16:17:26.982390",
     "status": "completed"
    },
    "tags": []
   },
   "source": [
    "Is that MAE good?  There isn't a general rule for what values are good that applies across applications. But you'll see how to use (and improve) this number in the next step.\n",
    "\n",
    "# Keep Going\n",
    "\n",
    "You are ready for **[Underfitting and Overfitting](https://www.kaggle.com/dansbecker/underfitting-and-overfitting).**\n"
   ]
  },
  {
   "cell_type": "markdown",
   "id": "fb486902",
   "metadata": {
    "papermill": {
     "duration": 0.022556,
     "end_time": "2022-05-01T16:17:27.051892",
     "exception": false,
     "start_time": "2022-05-01T16:17:27.029336",
     "status": "completed"
    },
    "tags": []
   },
   "source": [
    "---\n",
    "\n",
    "\n",
    "\n",
    "\n",
    "*Have questions or comments? Visit the [Learn Discussion forum](https://www.kaggle.com/learn-forum/161285) to chat with other Learners.*"
   ]
  }
 ],
 "metadata": {
  "kernelspec": {
   "display_name": "Python 3",
   "language": "python",
   "name": "python3"
  },
  "language_info": {
   "codemirror_mode": {
    "name": "ipython",
    "version": 3
   },
   "file_extension": ".py",
   "mimetype": "text/x-python",
   "name": "python",
   "nbconvert_exporter": "python",
   "pygments_lexer": "ipython3",
   "version": "3.7.12"
  },
  "papermill": {
   "default_parameters": {},
   "duration": 13.205345,
   "end_time": "2022-05-01T16:17:27.796608",
   "environment_variables": {},
   "exception": null,
   "input_path": "__notebook__.ipynb",
   "output_path": "__notebook__.ipynb",
   "parameters": {},
   "start_time": "2022-05-01T16:17:14.591263",
   "version": "2.3.4"
  }
 },
 "nbformat": 4,
 "nbformat_minor": 5
}
