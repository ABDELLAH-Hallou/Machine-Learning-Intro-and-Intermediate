{
 "cells": [
  {
   "cell_type": "markdown",
   "id": "d1f747cd",
   "metadata": {
    "papermill": {
     "duration": 0.02119,
     "end_time": "2022-05-01T16:33:37.951900",
     "exception": false,
     "start_time": "2022-05-01T16:33:37.930710",
     "status": "completed"
    },
    "tags": []
   },
   "source": [
    "**This notebook is an exercise in the [Intermediate Machine Learning](https://www.kaggle.com/learn/intermediate-machine-learning) course.  You can reference the tutorial at [this link](https://www.kaggle.com/alexisbcook/xgboost).**\n",
    "\n",
    "---\n"
   ]
  },
  {
   "cell_type": "markdown",
   "id": "ee436b16",
   "metadata": {
    "papermill": {
     "duration": 0.019349,
     "end_time": "2022-05-01T16:33:37.991719",
     "exception": false,
     "start_time": "2022-05-01T16:33:37.972370",
     "status": "completed"
    },
    "tags": []
   },
   "source": [
    "In this exercise, you will use your new knowledge to train a model with **gradient boosting**.\n",
    "\n",
    "# Setup\n",
    "\n",
    "The questions below will give you feedback on your work. Run the following cell to set up the feedback system."
   ]
  },
  {
   "cell_type": "code",
   "execution_count": 1,
   "id": "c5b0fcb6",
   "metadata": {
    "execution": {
     "iopub.execute_input": "2022-05-01T16:33:38.032413Z",
     "iopub.status.busy": "2022-05-01T16:33:38.031695Z",
     "iopub.status.idle": "2022-05-01T16:33:40.292772Z",
     "shell.execute_reply": "2022-05-01T16:33:40.292191Z"
    },
    "papermill": {
     "duration": 2.284886,
     "end_time": "2022-05-01T16:33:40.295579",
     "exception": false,
     "start_time": "2022-05-01T16:33:38.010693",
     "status": "completed"
    },
    "tags": []
   },
   "outputs": [
    {
     "name": "stdout",
     "output_type": "stream",
     "text": [
      "Setup Complete\n"
     ]
    }
   ],
   "source": [
    "# Set up code checking\n",
    "import os\n",
    "if not os.path.exists(\"../input/train.csv\"):\n",
    "    os.symlink(\"../input/home-data-for-ml-course/train.csv\", \"../input/train.csv\")  \n",
    "    os.symlink(\"../input/home-data-for-ml-course/test.csv\", \"../input/test.csv\") \n",
    "from learntools.core import binder\n",
    "binder.bind(globals())\n",
    "from learntools.ml_intermediate.ex6 import *\n",
    "print(\"Setup Complete\")"
   ]
  },
  {
   "cell_type": "markdown",
   "id": "c7c002de",
   "metadata": {
    "papermill": {
     "duration": 0.018737,
     "end_time": "2022-05-01T16:33:40.334890",
     "exception": false,
     "start_time": "2022-05-01T16:33:40.316153",
     "status": "completed"
    },
    "tags": []
   },
   "source": [
    "You will work with the [Housing Prices Competition for Kaggle Learn Users](https://www.kaggle.com/c/home-data-for-ml-course) dataset from the previous exercise. \n",
    "\n",
    "![Ames Housing dataset image](https://i.imgur.com/lTJVG4e.png)\n",
    "\n",
    "Run the next code cell without changes to load the training and validation sets in `X_train`, `X_valid`, `y_train`, and `y_valid`.  The test set is loaded in `X_test`."
   ]
  },
  {
   "cell_type": "code",
   "execution_count": 2,
   "id": "615e4d6b",
   "metadata": {
    "execution": {
     "iopub.execute_input": "2022-05-01T16:33:40.374506Z",
     "iopub.status.busy": "2022-05-01T16:33:40.374251Z",
     "iopub.status.idle": "2022-05-01T16:33:40.568194Z",
     "shell.execute_reply": "2022-05-01T16:33:40.567422Z"
    },
    "papermill": {
     "duration": 0.216617,
     "end_time": "2022-05-01T16:33:40.570586",
     "exception": false,
     "start_time": "2022-05-01T16:33:40.353969",
     "status": "completed"
    },
    "tags": []
   },
   "outputs": [],
   "source": [
    "import pandas as pd\n",
    "from sklearn.model_selection import train_test_split\n",
    "\n",
    "# Read the data\n",
    "X = pd.read_csv('../input/train.csv', index_col='Id')\n",
    "X_test_full = pd.read_csv('../input/test.csv', index_col='Id')\n",
    "\n",
    "# Remove rows with missing target, separate target from predictors\n",
    "X.dropna(axis=0, subset=['SalePrice'], inplace=True)\n",
    "y = X.SalePrice              \n",
    "X.drop(['SalePrice'], axis=1, inplace=True)\n",
    "\n",
    "# Break off validation set from training data\n",
    "X_train_full, X_valid_full, y_train, y_valid = train_test_split(X, y, train_size=0.8, test_size=0.2,\n",
    "                                                                random_state=0)\n",
    "\n",
    "# \"Cardinality\" means the number of unique values in a column\n",
    "# Select categorical columns with relatively low cardinality (convenient but arbitrary)\n",
    "low_cardinality_cols = [cname for cname in X_train_full.columns if X_train_full[cname].nunique() < 10 and \n",
    "                        X_train_full[cname].dtype == \"object\"]\n",
    "\n",
    "# Select numeric columns\n",
    "numeric_cols = [cname for cname in X_train_full.columns if X_train_full[cname].dtype in ['int64', 'float64']]\n",
    "\n",
    "# Keep selected columns only\n",
    "my_cols = low_cardinality_cols + numeric_cols\n",
    "X_train = X_train_full[my_cols].copy()\n",
    "X_valid = X_valid_full[my_cols].copy()\n",
    "X_test = X_test_full[my_cols].copy()\n",
    "\n",
    "# One-hot encode the data (to shorten the code, we use pandas)\n",
    "X_train = pd.get_dummies(X_train)\n",
    "X_valid = pd.get_dummies(X_valid)\n",
    "X_test = pd.get_dummies(X_test)\n",
    "X_train, X_valid = X_train.align(X_valid, join='left', axis=1)\n",
    "X_train, X_test = X_train.align(X_test, join='left', axis=1)"
   ]
  },
  {
   "cell_type": "markdown",
   "id": "f925e819",
   "metadata": {
    "papermill": {
     "duration": 0.018876,
     "end_time": "2022-05-01T16:33:40.609459",
     "exception": false,
     "start_time": "2022-05-01T16:33:40.590583",
     "status": "completed"
    },
    "tags": []
   },
   "source": [
    "# Step 1: Build model\n",
    "\n",
    "### Part A\n",
    "\n",
    "In this step, you'll build and train your first model with gradient boosting.\n",
    "\n",
    "- Begin by setting `my_model_1` to an XGBoost model.  Use the [XGBRegressor](https://xgboost.readthedocs.io/en/latest/python/python_api.html#xgboost.XGBRegressor) class, and set the random seed to 0 (`random_state=0`).  **Leave all other parameters as default.**\n",
    "- Then, fit the model to the training data in `X_train` and `y_train`."
   ]
  },
  {
   "cell_type": "code",
   "execution_count": 3,
   "id": "4d23ff1c",
   "metadata": {
    "execution": {
     "iopub.execute_input": "2022-05-01T16:33:40.649380Z",
     "iopub.status.busy": "2022-05-01T16:33:40.648787Z",
     "iopub.status.idle": "2022-05-01T16:33:41.554216Z",
     "shell.execute_reply": "2022-05-01T16:33:41.553463Z"
    },
    "papermill": {
     "duration": 0.927471,
     "end_time": "2022-05-01T16:33:41.556139",
     "exception": false,
     "start_time": "2022-05-01T16:33:40.628668",
     "status": "completed"
    },
    "tags": []
   },
   "outputs": [
    {
     "data": {
      "application/javascript": [
       "parent.postMessage({\"jupyterEvent\": \"custom.exercise_interaction\", \"data\": {\"outcomeType\": 1, \"valueTowardsCompletion\": 0.5, \"interactionType\": 1, \"questionType\": 2, \"questionId\": \"1.1_Model1A\", \"learnToolsVersion\": \"0.3.4\", \"failureMessage\": \"\", \"exceptionClass\": \"\", \"trace\": \"\"}}, \"*\")"
      ],
      "text/plain": [
       "<IPython.core.display.Javascript object>"
      ]
     },
     "metadata": {},
     "output_type": "display_data"
    },
    {
     "data": {
      "text/markdown": [
       "<span style=\"color:#33cc33\">Correct</span>"
      ],
      "text/plain": [
       "Correct"
      ]
     },
     "metadata": {},
     "output_type": "display_data"
    }
   ],
   "source": [
    "from xgboost import XGBRegressor\n",
    "\n",
    "# Define the model\n",
    "my_model_1 = XGBRegressor(random_state=0) # Your code here\n",
    "\n",
    "# Fit the model\n",
    "my_model_1.fit(X_train, y_train) # Your code here\n",
    "\n",
    "# Check your answer\n",
    "step_1.a.check()"
   ]
  },
  {
   "cell_type": "code",
   "execution_count": 4,
   "id": "e5479ae4",
   "metadata": {
    "execution": {
     "iopub.execute_input": "2022-05-01T16:33:41.598757Z",
     "iopub.status.busy": "2022-05-01T16:33:41.598235Z",
     "iopub.status.idle": "2022-05-01T16:33:41.601662Z",
     "shell.execute_reply": "2022-05-01T16:33:41.601140Z"
    },
    "papermill": {
     "duration": 0.026862,
     "end_time": "2022-05-01T16:33:41.603467",
     "exception": false,
     "start_time": "2022-05-01T16:33:41.576605",
     "status": "completed"
    },
    "tags": []
   },
   "outputs": [],
   "source": [
    "# Lines below will give you a hint or solution code\n",
    "#step_1.a.hint()\n",
    "#step_1.a.solution()"
   ]
  },
  {
   "cell_type": "markdown",
   "id": "ebdbebb5",
   "metadata": {
    "papermill": {
     "duration": 0.020112,
     "end_time": "2022-05-01T16:33:41.643814",
     "exception": false,
     "start_time": "2022-05-01T16:33:41.623702",
     "status": "completed"
    },
    "tags": []
   },
   "source": [
    "### Part B\n",
    "\n",
    "Set `predictions_1` to the model's predictions for the validation data.  Recall that the validation features are stored in `X_valid`."
   ]
  },
  {
   "cell_type": "code",
   "execution_count": 5,
   "id": "061996e5",
   "metadata": {
    "execution": {
     "iopub.execute_input": "2022-05-01T16:33:41.688017Z",
     "iopub.status.busy": "2022-05-01T16:33:41.687753Z",
     "iopub.status.idle": "2022-05-01T16:33:41.710418Z",
     "shell.execute_reply": "2022-05-01T16:33:41.709779Z"
    },
    "papermill": {
     "duration": 0.046317,
     "end_time": "2022-05-01T16:33:41.712478",
     "exception": false,
     "start_time": "2022-05-01T16:33:41.666161",
     "status": "completed"
    },
    "tags": []
   },
   "outputs": [
    {
     "data": {
      "application/javascript": [
       "parent.postMessage({\"jupyterEvent\": \"custom.exercise_interaction\", \"data\": {\"outcomeType\": 1, \"valueTowardsCompletion\": 0.5, \"interactionType\": 1, \"questionType\": 2, \"questionId\": \"1.2_Model1B\", \"learnToolsVersion\": \"0.3.4\", \"failureMessage\": \"\", \"exceptionClass\": \"\", \"trace\": \"\"}}, \"*\")"
      ],
      "text/plain": [
       "<IPython.core.display.Javascript object>"
      ]
     },
     "metadata": {},
     "output_type": "display_data"
    },
    {
     "data": {
      "text/markdown": [
       "<span style=\"color:#33cc33\">Correct</span>"
      ],
      "text/plain": [
       "Correct"
      ]
     },
     "metadata": {},
     "output_type": "display_data"
    }
   ],
   "source": [
    "from sklearn.metrics import mean_absolute_error\n",
    "\n",
    "# Get predictions\n",
    "predictions_1 = my_model_1.predict(X_valid) # Your code here\n",
    "\n",
    "# Check your answer\n",
    "step_1.b.check()"
   ]
  },
  {
   "cell_type": "code",
   "execution_count": 6,
   "id": "7a6540bb",
   "metadata": {
    "execution": {
     "iopub.execute_input": "2022-05-01T16:33:41.758383Z",
     "iopub.status.busy": "2022-05-01T16:33:41.758080Z",
     "iopub.status.idle": "2022-05-01T16:33:41.761069Z",
     "shell.execute_reply": "2022-05-01T16:33:41.760526Z"
    },
    "papermill": {
     "duration": 0.027511,
     "end_time": "2022-05-01T16:33:41.762902",
     "exception": false,
     "start_time": "2022-05-01T16:33:41.735391",
     "status": "completed"
    },
    "tags": []
   },
   "outputs": [],
   "source": [
    "# Lines below will give you a hint or solution code\n",
    "#step_1.b.hint()\n",
    "# step_1.b.solution()"
   ]
  },
  {
   "cell_type": "markdown",
   "id": "ad6b36a7",
   "metadata": {
    "papermill": {
     "duration": 0.021288,
     "end_time": "2022-05-01T16:33:41.805835",
     "exception": false,
     "start_time": "2022-05-01T16:33:41.784547",
     "status": "completed"
    },
    "tags": []
   },
   "source": [
    "### Part C\n",
    "\n",
    "Finally, use the `mean_absolute_error()` function to calculate the mean absolute error (MAE) corresponding to the predictions for the validation set.  Recall that the labels for the validation data are stored in `y_valid`."
   ]
  },
  {
   "cell_type": "code",
   "execution_count": 7,
   "id": "654c39f9",
   "metadata": {
    "execution": {
     "iopub.execute_input": "2022-05-01T16:33:41.850891Z",
     "iopub.status.busy": "2022-05-01T16:33:41.850210Z",
     "iopub.status.idle": "2022-05-01T16:33:41.859560Z",
     "shell.execute_reply": "2022-05-01T16:33:41.858453Z"
    },
    "papermill": {
     "duration": 0.034127,
     "end_time": "2022-05-01T16:33:41.861505",
     "exception": false,
     "start_time": "2022-05-01T16:33:41.827378",
     "status": "completed"
    },
    "tags": []
   },
   "outputs": [
    {
     "name": "stdout",
     "output_type": "stream",
     "text": [
      "Mean Absolute Error: 17662.736729452055\n"
     ]
    },
    {
     "data": {
      "application/javascript": [
       "parent.postMessage({\"jupyterEvent\": \"custom.exercise_interaction\", \"data\": {\"outcomeType\": 1, \"valueTowardsCompletion\": 0.5, \"interactionType\": 1, \"questionType\": 2, \"questionId\": \"1.3_Model1C\", \"learnToolsVersion\": \"0.3.4\", \"failureMessage\": \"\", \"exceptionClass\": \"\", \"trace\": \"\"}}, \"*\")"
      ],
      "text/plain": [
       "<IPython.core.display.Javascript object>"
      ]
     },
     "metadata": {},
     "output_type": "display_data"
    },
    {
     "data": {
      "text/markdown": [
       "<span style=\"color:#33cc33\">Correct</span>"
      ],
      "text/plain": [
       "Correct"
      ]
     },
     "metadata": {},
     "output_type": "display_data"
    }
   ],
   "source": [
    "# Calculate MAE\n",
    "mae_1 = mean_absolute_error(y_valid, predictions_1) # Your code here\n",
    "\n",
    "# Uncomment to print MAE\n",
    "print(\"Mean Absolute Error:\" , mae_1)\n",
    "\n",
    "# Check your answer\n",
    "step_1.c.check()"
   ]
  },
  {
   "cell_type": "code",
   "execution_count": 8,
   "id": "d4a6a947",
   "metadata": {
    "execution": {
     "iopub.execute_input": "2022-05-01T16:33:41.910111Z",
     "iopub.status.busy": "2022-05-01T16:33:41.909596Z",
     "iopub.status.idle": "2022-05-01T16:33:41.912531Z",
     "shell.execute_reply": "2022-05-01T16:33:41.911994Z"
    },
    "papermill": {
     "duration": 0.029435,
     "end_time": "2022-05-01T16:33:41.914173",
     "exception": false,
     "start_time": "2022-05-01T16:33:41.884738",
     "status": "completed"
    },
    "tags": []
   },
   "outputs": [],
   "source": [
    "# Lines below will give you a hint or solution code\n",
    "#step_1.c.hint()\n",
    "#step_1.c.solution()"
   ]
  },
  {
   "cell_type": "markdown",
   "id": "1d92b016",
   "metadata": {
    "papermill": {
     "duration": 0.022667,
     "end_time": "2022-05-01T16:33:41.959838",
     "exception": false,
     "start_time": "2022-05-01T16:33:41.937171",
     "status": "completed"
    },
    "tags": []
   },
   "source": [
    "# Step 2: Improve the model\n",
    "\n",
    "Now that you've trained a default model as baseline, it's time to tinker with the parameters, to see if you can get better performance!\n",
    "- Begin by setting `my_model_2` to an XGBoost model, using the [XGBRegressor](https://xgboost.readthedocs.io/en/latest/python/python_api.html#xgboost.XGBRegressor) class.  Use what you learned in the previous tutorial to figure out how to change the default parameters (like `n_estimators` and `learning_rate`) to get better results.\n",
    "- Then, fit the model to the training data in `X_train` and `y_train`.\n",
    "- Set `predictions_2` to the model's predictions for the validation data.  Recall that the validation features are stored in `X_valid`.\n",
    "- Finally, use the `mean_absolute_error()` function to calculate the mean absolute error (MAE) corresponding to the predictions on the validation set.  Recall that the labels for the validation data are stored in `y_valid`.\n",
    "\n",
    "In order for this step to be marked correct, your model in `my_model_2` must attain lower MAE than the model in `my_model_1`. "
   ]
  },
  {
   "cell_type": "code",
   "execution_count": 9,
   "id": "795da92e",
   "metadata": {
    "execution": {
     "iopub.execute_input": "2022-05-01T16:33:42.008181Z",
     "iopub.status.busy": "2022-05-01T16:33:42.007676Z",
     "iopub.status.idle": "2022-05-01T16:33:44.578994Z",
     "shell.execute_reply": "2022-05-01T16:33:44.578359Z"
    },
    "papermill": {
     "duration": 2.598275,
     "end_time": "2022-05-01T16:33:44.581117",
     "exception": false,
     "start_time": "2022-05-01T16:33:41.982842",
     "status": "completed"
    },
    "tags": []
   },
   "outputs": [
    {
     "name": "stderr",
     "output_type": "stream",
     "text": [
      "/opt/conda/lib/python3.7/site-packages/xgboost/sklearn.py:797: UserWarning: `early_stopping_rounds` in `fit` method is deprecated for better compatibility with scikit-learn, use `early_stopping_rounds` in constructor or`set_params` instead.\n",
      "  UserWarning,\n"
     ]
    },
    {
     "name": "stdout",
     "output_type": "stream",
     "text": [
      "Mean Absolute Error: 16802.965325342466\n"
     ]
    },
    {
     "data": {
      "application/javascript": [
       "parent.postMessage({\"jupyterEvent\": \"custom.exercise_interaction\", \"data\": {\"outcomeType\": 1, \"valueTowardsCompletion\": 0.5, \"interactionType\": 1, \"questionType\": 2, \"questionId\": \"2_Model2\", \"learnToolsVersion\": \"0.3.4\", \"failureMessage\": \"\", \"exceptionClass\": \"\", \"trace\": \"\"}}, \"*\")"
      ],
      "text/plain": [
       "<IPython.core.display.Javascript object>"
      ]
     },
     "metadata": {},
     "output_type": "display_data"
    },
    {
     "data": {
      "text/markdown": [
       "<span style=\"color:#33cc33\">Correct</span>"
      ],
      "text/plain": [
       "Correct"
      ]
     },
     "metadata": {},
     "output_type": "display_data"
    }
   ],
   "source": [
    "# Define the model\n",
    "my_model_2 = XGBRegressor(n_estimators=500, learning_rate=0.05) # Your code here\n",
    "\n",
    "# Fit the model\n",
    "my_model_2.fit(X_train, y_train,\n",
    "               early_stopping_rounds=5,\n",
    "               eval_set=[(X_valid, y_valid)],\n",
    "               verbose=False) # Your code here\n",
    "\n",
    "# Get predictions\n",
    "predictions_2 = my_model_2.predict(X_valid) # Your code here\n",
    "\n",
    "# Calculate MAE\n",
    "mae_2 = mean_absolute_error(y_valid, predictions_2) # Your code here\n",
    "\n",
    "# Uncomment to print MAE\n",
    "print(\"Mean Absolute Error:\" , mae_2)\n",
    "\n",
    "# Check your answer\n",
    "step_2.check()"
   ]
  },
  {
   "cell_type": "code",
   "execution_count": 10,
   "id": "76e44c12",
   "metadata": {
    "execution": {
     "iopub.execute_input": "2022-05-01T16:33:44.634919Z",
     "iopub.status.busy": "2022-05-01T16:33:44.634284Z",
     "iopub.status.idle": "2022-05-01T16:33:44.637464Z",
     "shell.execute_reply": "2022-05-01T16:33:44.636729Z"
    },
    "papermill": {
     "duration": 0.031396,
     "end_time": "2022-05-01T16:33:44.639172",
     "exception": false,
     "start_time": "2022-05-01T16:33:44.607776",
     "status": "completed"
    },
    "tags": []
   },
   "outputs": [],
   "source": [
    "# Lines below will give you a hint or solution code\n",
    "#step_2.hint()\n",
    "#step_2.solution()"
   ]
  },
  {
   "cell_type": "markdown",
   "id": "e519f1fd",
   "metadata": {
    "papermill": {
     "duration": 0.025163,
     "end_time": "2022-05-01T16:33:44.689139",
     "exception": false,
     "start_time": "2022-05-01T16:33:44.663976",
     "status": "completed"
    },
    "tags": []
   },
   "source": [
    "# Step 3: Break the model\n",
    "\n",
    "In this step, you will create a model that performs worse than the original model in Step 1.  This will help you to develop your intuition for how to set parameters.  You might even find that you accidentally get better performance, which is ultimately a nice problem to have and a valuable learning experience!\n",
    "- Begin by setting `my_model_3` to an XGBoost model, using the [XGBRegressor](https://xgboost.readthedocs.io/en/latest/python/python_api.html#xgboost.XGBRegressor) class.  Use what you learned in the previous tutorial to figure out how to change the default parameters (like `n_estimators` and `learning_rate`) to design a model to get high MAE.\n",
    "- Then, fit the model to the training data in `X_train` and `y_train`.\n",
    "- Set `predictions_3` to the model's predictions for the validation data.  Recall that the validation features are stored in `X_valid`.\n",
    "- Finally, use the `mean_absolute_error()` function to calculate the mean absolute error (MAE) corresponding to the predictions on the validation set.  Recall that the labels for the validation data are stored in `y_valid`.\n",
    "\n",
    "In order for this step to be marked correct, your model in `my_model_3` must attain higher MAE than the model in `my_model_1`. "
   ]
  },
  {
   "cell_type": "code",
   "execution_count": 11,
   "id": "a86c722b",
   "metadata": {
    "execution": {
     "iopub.execute_input": "2022-05-01T16:33:44.741101Z",
     "iopub.status.busy": "2022-05-01T16:33:44.740826Z",
     "iopub.status.idle": "2022-05-01T16:33:45.663255Z",
     "shell.execute_reply": "2022-05-01T16:33:45.662358Z"
    },
    "papermill": {
     "duration": 0.951324,
     "end_time": "2022-05-01T16:33:45.665466",
     "exception": false,
     "start_time": "2022-05-01T16:33:44.714142",
     "status": "completed"
    },
    "tags": []
   },
   "outputs": [
    {
     "name": "stdout",
     "output_type": "stream",
     "text": [
      "Mean Absolute Error: 27386.556613869863\n"
     ]
    },
    {
     "data": {
      "application/javascript": [
       "parent.postMessage({\"jupyterEvent\": \"custom.exercise_interaction\", \"data\": {\"outcomeType\": 1, \"valueTowardsCompletion\": 0.5, \"interactionType\": 1, \"questionType\": 2, \"questionId\": \"3_Model3\", \"learnToolsVersion\": \"0.3.4\", \"failureMessage\": \"\", \"exceptionClass\": \"\", \"trace\": \"\"}}, \"*\")"
      ],
      "text/plain": [
       "<IPython.core.display.Javascript object>"
      ]
     },
     "metadata": {},
     "output_type": "display_data"
    },
    {
     "data": {
      "text/markdown": [
       "<span style=\"color:#33cc33\">Correct</span>"
      ],
      "text/plain": [
       "Correct"
      ]
     },
     "metadata": {},
     "output_type": "display_data"
    }
   ],
   "source": [
    "# Define the model\n",
    "my_model_3 = XGBRegressor(n_estimators=100, learning_rate=1)\n",
    "\n",
    "# Fit the model\n",
    "my_model_3.fit(X_train, y_train) # Your code here\n",
    "\n",
    "# Get predictions\n",
    "predictions_3 = my_model_3.predict(X_valid)\n",
    "\n",
    "# Calculate MAE\n",
    "mae_3 = mean_absolute_error(y_valid, predictions_3)\n",
    "\n",
    "# Uncomment to print MAE\n",
    "print(\"Mean Absolute Error:\" , mae_3)\n",
    "\n",
    "# Check your answer\n",
    "step_3.check()"
   ]
  },
  {
   "cell_type": "code",
   "execution_count": 12,
   "id": "545d77be",
   "metadata": {
    "execution": {
     "iopub.execute_input": "2022-05-01T16:33:45.720881Z",
     "iopub.status.busy": "2022-05-01T16:33:45.720094Z",
     "iopub.status.idle": "2022-05-01T16:33:45.723465Z",
     "shell.execute_reply": "2022-05-01T16:33:45.722766Z"
    },
    "papermill": {
     "duration": 0.032366,
     "end_time": "2022-05-01T16:33:45.725256",
     "exception": false,
     "start_time": "2022-05-01T16:33:45.692890",
     "status": "completed"
    },
    "tags": []
   },
   "outputs": [],
   "source": [
    "# Lines below will give you a hint or solution code\n",
    "#step_3.hint()\n",
    "#step_3.solution()"
   ]
  },
  {
   "cell_type": "markdown",
   "id": "c31473c0",
   "metadata": {
    "papermill": {
     "duration": 0.029127,
     "end_time": "2022-05-01T16:33:45.780493",
     "exception": false,
     "start_time": "2022-05-01T16:33:45.751366",
     "status": "completed"
    },
    "tags": []
   },
   "source": [
    "# Keep going\n",
    "\n",
    "Continue to learn about **[data leakage](https://www.kaggle.com/alexisbcook/data-leakage)**.  This is an important issue for a data scientist to understand, and it has the potential to ruin your models in subtle and dangerous ways!"
   ]
  },
  {
   "cell_type": "markdown",
   "id": "87d1f6ed",
   "metadata": {
    "papermill": {
     "duration": 0.026092,
     "end_time": "2022-05-01T16:33:45.833076",
     "exception": false,
     "start_time": "2022-05-01T16:33:45.806984",
     "status": "completed"
    },
    "tags": []
   },
   "source": [
    "---\n",
    "\n",
    "\n",
    "\n",
    "\n",
    "*Have questions or comments? Visit the [Learn Discussion forum](https://www.kaggle.com/learn-forum/161289) to chat with other Learners.*"
   ]
  }
 ],
 "metadata": {
  "kernelspec": {
   "display_name": "Python 3",
   "language": "python",
   "name": "python3"
  },
  "language_info": {
   "codemirror_mode": {
    "name": "ipython",
    "version": 3
   },
   "file_extension": ".py",
   "mimetype": "text/x-python",
   "name": "python",
   "nbconvert_exporter": "python",
   "pygments_lexer": "ipython3",
   "version": "3.7.12"
  },
  "papermill": {
   "default_parameters": {},
   "duration": 18.003196,
   "end_time": "2022-05-01T16:33:46.479374",
   "environment_variables": {},
   "exception": null,
   "input_path": "__notebook__.ipynb",
   "output_path": "__notebook__.ipynb",
   "parameters": {},
   "start_time": "2022-05-01T16:33:28.476178",
   "version": "2.3.4"
  }
 },
 "nbformat": 4,
 "nbformat_minor": 5
}
