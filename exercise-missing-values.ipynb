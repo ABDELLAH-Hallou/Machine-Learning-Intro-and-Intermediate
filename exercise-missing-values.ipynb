{
 "cells": [
  {
   "cell_type": "markdown",
   "id": "f7b62551",
   "metadata": {
    "papermill": {
     "duration": 0.036948,
     "end_time": "2022-05-01T16:26:54.581964",
     "exception": false,
     "start_time": "2022-05-01T16:26:54.545016",
     "status": "completed"
    },
    "tags": []
   },
   "source": [
    "**This notebook is an exercise in the [Intermediate Machine Learning](https://www.kaggle.com/learn/intermediate-machine-learning) course.  You can reference the tutorial at [this link](https://www.kaggle.com/alexisbcook/missing-values).**\n",
    "\n",
    "---\n"
   ]
  },
  {
   "cell_type": "markdown",
   "id": "0f88b4d3",
   "metadata": {
    "papermill": {
     "duration": 0.034166,
     "end_time": "2022-05-01T16:26:54.650588",
     "exception": false,
     "start_time": "2022-05-01T16:26:54.616422",
     "status": "completed"
    },
    "tags": []
   },
   "source": [
    "Now it's your turn to test your new knowledge of **missing values** handling. You'll probably find it makes a big difference.\n",
    "\n",
    "# Setup\n",
    "\n",
    "The questions will give you feedback on your work. Run the following cell to set up the feedback system."
   ]
  },
  {
   "cell_type": "code",
   "execution_count": 1,
   "id": "8e9112f2",
   "metadata": {
    "execution": {
     "iopub.execute_input": "2022-05-01T16:26:54.723932Z",
     "iopub.status.busy": "2022-05-01T16:26:54.723113Z",
     "iopub.status.idle": "2022-05-01T16:26:54.776425Z",
     "shell.execute_reply": "2022-05-01T16:26:54.775519Z"
    },
    "papermill": {
     "duration": 0.091769,
     "end_time": "2022-05-01T16:26:54.778827",
     "exception": false,
     "start_time": "2022-05-01T16:26:54.687058",
     "status": "completed"
    },
    "tags": []
   },
   "outputs": [
    {
     "name": "stdout",
     "output_type": "stream",
     "text": [
      "Setup Complete\n"
     ]
    }
   ],
   "source": [
    "# Set up code checking\n",
    "import os\n",
    "if not os.path.exists(\"../input/train.csv\"):\n",
    "    os.symlink(\"../input/home-data-for-ml-course/train.csv\", \"../input/train.csv\")  \n",
    "    os.symlink(\"../input/home-data-for-ml-course/test.csv\", \"../input/test.csv\") \n",
    "from learntools.core import binder\n",
    "binder.bind(globals())\n",
    "from learntools.ml_intermediate.ex2 import *\n",
    "print(\"Setup Complete\")"
   ]
  },
  {
   "cell_type": "markdown",
   "id": "fb594013",
   "metadata": {
    "papermill": {
     "duration": 0.035262,
     "end_time": "2022-05-01T16:26:54.851691",
     "exception": false,
     "start_time": "2022-05-01T16:26:54.816429",
     "status": "completed"
    },
    "tags": []
   },
   "source": [
    "In this exercise, you will work with data from the [Housing Prices Competition for Kaggle Learn Users](https://www.kaggle.com/c/home-data-for-ml-course). \n",
    "\n",
    "![Ames Housing dataset image](https://i.imgur.com/lTJVG4e.png)\n",
    "\n",
    "Run the next code cell without changes to load the training and validation sets in `X_train`, `X_valid`, `y_train`, and `y_valid`.  The test set is loaded in `X_test`."
   ]
  },
  {
   "cell_type": "code",
   "execution_count": 2,
   "id": "630a3e26",
   "metadata": {
    "execution": {
     "iopub.execute_input": "2022-05-01T16:26:54.926036Z",
     "iopub.status.busy": "2022-05-01T16:26:54.925520Z",
     "iopub.status.idle": "2022-05-01T16:26:56.207655Z",
     "shell.execute_reply": "2022-05-01T16:26:56.206703Z"
    },
    "papermill": {
     "duration": 1.323471,
     "end_time": "2022-05-01T16:26:56.210229",
     "exception": false,
     "start_time": "2022-05-01T16:26:54.886758",
     "status": "completed"
    },
    "tags": []
   },
   "outputs": [],
   "source": [
    "import pandas as pd\n",
    "from sklearn.model_selection import train_test_split\n",
    "\n",
    "# Read the data\n",
    "X_full = pd.read_csv('../input/train.csv', index_col='Id')\n",
    "X_test_full = pd.read_csv('../input/test.csv', index_col='Id')\n",
    "\n",
    "# Remove rows with missing target, separate target from predictors\n",
    "X_full.dropna(axis=0, subset=['SalePrice'], inplace=True)\n",
    "y = X_full.SalePrice\n",
    "X_full.drop(['SalePrice'], axis=1, inplace=True)\n",
    "\n",
    "# To keep things simple, we'll use only numerical predictors\n",
    "X = X_full.select_dtypes(exclude=['object'])\n",
    "X_test = X_test_full.select_dtypes(exclude=['object'])\n",
    "\n",
    "# Break off validation set from training data\n",
    "X_train, X_valid, y_train, y_valid = train_test_split(X, y, train_size=0.8, test_size=0.2,\n",
    "                                                      random_state=0)"
   ]
  },
  {
   "cell_type": "markdown",
   "id": "a6b2b4b1",
   "metadata": {
    "papermill": {
     "duration": 0.034737,
     "end_time": "2022-05-01T16:26:56.280638",
     "exception": false,
     "start_time": "2022-05-01T16:26:56.245901",
     "status": "completed"
    },
    "tags": []
   },
   "source": [
    "Use the next code cell to print the first five rows of the data."
   ]
  },
  {
   "cell_type": "code",
   "execution_count": 3,
   "id": "7cb484e3",
   "metadata": {
    "execution": {
     "iopub.execute_input": "2022-05-01T16:26:56.354031Z",
     "iopub.status.busy": "2022-05-01T16:26:56.353418Z",
     "iopub.status.idle": "2022-05-01T16:26:56.382380Z",
     "shell.execute_reply": "2022-05-01T16:26:56.381486Z"
    },
    "papermill": {
     "duration": 0.068834,
     "end_time": "2022-05-01T16:26:56.385316",
     "exception": false,
     "start_time": "2022-05-01T16:26:56.316482",
     "status": "completed"
    },
    "tags": []
   },
   "outputs": [
    {
     "data": {
      "text/html": [
       "<div>\n",
       "<style scoped>\n",
       "    .dataframe tbody tr th:only-of-type {\n",
       "        vertical-align: middle;\n",
       "    }\n",
       "\n",
       "    .dataframe tbody tr th {\n",
       "        vertical-align: top;\n",
       "    }\n",
       "\n",
       "    .dataframe thead th {\n",
       "        text-align: right;\n",
       "    }\n",
       "</style>\n",
       "<table border=\"1\" class=\"dataframe\">\n",
       "  <thead>\n",
       "    <tr style=\"text-align: right;\">\n",
       "      <th></th>\n",
       "      <th>MSSubClass</th>\n",
       "      <th>LotFrontage</th>\n",
       "      <th>LotArea</th>\n",
       "      <th>OverallQual</th>\n",
       "      <th>OverallCond</th>\n",
       "      <th>YearBuilt</th>\n",
       "      <th>YearRemodAdd</th>\n",
       "      <th>MasVnrArea</th>\n",
       "      <th>BsmtFinSF1</th>\n",
       "      <th>BsmtFinSF2</th>\n",
       "      <th>...</th>\n",
       "      <th>GarageArea</th>\n",
       "      <th>WoodDeckSF</th>\n",
       "      <th>OpenPorchSF</th>\n",
       "      <th>EnclosedPorch</th>\n",
       "      <th>3SsnPorch</th>\n",
       "      <th>ScreenPorch</th>\n",
       "      <th>PoolArea</th>\n",
       "      <th>MiscVal</th>\n",
       "      <th>MoSold</th>\n",
       "      <th>YrSold</th>\n",
       "    </tr>\n",
       "    <tr>\n",
       "      <th>Id</th>\n",
       "      <th></th>\n",
       "      <th></th>\n",
       "      <th></th>\n",
       "      <th></th>\n",
       "      <th></th>\n",
       "      <th></th>\n",
       "      <th></th>\n",
       "      <th></th>\n",
       "      <th></th>\n",
       "      <th></th>\n",
       "      <th></th>\n",
       "      <th></th>\n",
       "      <th></th>\n",
       "      <th></th>\n",
       "      <th></th>\n",
       "      <th></th>\n",
       "      <th></th>\n",
       "      <th></th>\n",
       "      <th></th>\n",
       "      <th></th>\n",
       "      <th></th>\n",
       "    </tr>\n",
       "  </thead>\n",
       "  <tbody>\n",
       "    <tr>\n",
       "      <th>619</th>\n",
       "      <td>20</td>\n",
       "      <td>90.0</td>\n",
       "      <td>11694</td>\n",
       "      <td>9</td>\n",
       "      <td>5</td>\n",
       "      <td>2007</td>\n",
       "      <td>2007</td>\n",
       "      <td>452.0</td>\n",
       "      <td>48</td>\n",
       "      <td>0</td>\n",
       "      <td>...</td>\n",
       "      <td>774</td>\n",
       "      <td>0</td>\n",
       "      <td>108</td>\n",
       "      <td>0</td>\n",
       "      <td>0</td>\n",
       "      <td>260</td>\n",
       "      <td>0</td>\n",
       "      <td>0</td>\n",
       "      <td>7</td>\n",
       "      <td>2007</td>\n",
       "    </tr>\n",
       "    <tr>\n",
       "      <th>871</th>\n",
       "      <td>20</td>\n",
       "      <td>60.0</td>\n",
       "      <td>6600</td>\n",
       "      <td>5</td>\n",
       "      <td>5</td>\n",
       "      <td>1962</td>\n",
       "      <td>1962</td>\n",
       "      <td>0.0</td>\n",
       "      <td>0</td>\n",
       "      <td>0</td>\n",
       "      <td>...</td>\n",
       "      <td>308</td>\n",
       "      <td>0</td>\n",
       "      <td>0</td>\n",
       "      <td>0</td>\n",
       "      <td>0</td>\n",
       "      <td>0</td>\n",
       "      <td>0</td>\n",
       "      <td>0</td>\n",
       "      <td>8</td>\n",
       "      <td>2009</td>\n",
       "    </tr>\n",
       "    <tr>\n",
       "      <th>93</th>\n",
       "      <td>30</td>\n",
       "      <td>80.0</td>\n",
       "      <td>13360</td>\n",
       "      <td>5</td>\n",
       "      <td>7</td>\n",
       "      <td>1921</td>\n",
       "      <td>2006</td>\n",
       "      <td>0.0</td>\n",
       "      <td>713</td>\n",
       "      <td>0</td>\n",
       "      <td>...</td>\n",
       "      <td>432</td>\n",
       "      <td>0</td>\n",
       "      <td>0</td>\n",
       "      <td>44</td>\n",
       "      <td>0</td>\n",
       "      <td>0</td>\n",
       "      <td>0</td>\n",
       "      <td>0</td>\n",
       "      <td>8</td>\n",
       "      <td>2009</td>\n",
       "    </tr>\n",
       "    <tr>\n",
       "      <th>818</th>\n",
       "      <td>20</td>\n",
       "      <td>NaN</td>\n",
       "      <td>13265</td>\n",
       "      <td>8</td>\n",
       "      <td>5</td>\n",
       "      <td>2002</td>\n",
       "      <td>2002</td>\n",
       "      <td>148.0</td>\n",
       "      <td>1218</td>\n",
       "      <td>0</td>\n",
       "      <td>...</td>\n",
       "      <td>857</td>\n",
       "      <td>150</td>\n",
       "      <td>59</td>\n",
       "      <td>0</td>\n",
       "      <td>0</td>\n",
       "      <td>0</td>\n",
       "      <td>0</td>\n",
       "      <td>0</td>\n",
       "      <td>7</td>\n",
       "      <td>2008</td>\n",
       "    </tr>\n",
       "    <tr>\n",
       "      <th>303</th>\n",
       "      <td>20</td>\n",
       "      <td>118.0</td>\n",
       "      <td>13704</td>\n",
       "      <td>7</td>\n",
       "      <td>5</td>\n",
       "      <td>2001</td>\n",
       "      <td>2002</td>\n",
       "      <td>150.0</td>\n",
       "      <td>0</td>\n",
       "      <td>0</td>\n",
       "      <td>...</td>\n",
       "      <td>843</td>\n",
       "      <td>468</td>\n",
       "      <td>81</td>\n",
       "      <td>0</td>\n",
       "      <td>0</td>\n",
       "      <td>0</td>\n",
       "      <td>0</td>\n",
       "      <td>0</td>\n",
       "      <td>1</td>\n",
       "      <td>2006</td>\n",
       "    </tr>\n",
       "  </tbody>\n",
       "</table>\n",
       "<p>5 rows × 36 columns</p>\n",
       "</div>"
      ],
      "text/plain": [
       "     MSSubClass  LotFrontage  LotArea  OverallQual  OverallCond  YearBuilt  \\\n",
       "Id                                                                           \n",
       "619          20         90.0    11694            9            5       2007   \n",
       "871          20         60.0     6600            5            5       1962   \n",
       "93           30         80.0    13360            5            7       1921   \n",
       "818          20          NaN    13265            8            5       2002   \n",
       "303          20        118.0    13704            7            5       2001   \n",
       "\n",
       "     YearRemodAdd  MasVnrArea  BsmtFinSF1  BsmtFinSF2  ...  GarageArea  \\\n",
       "Id                                                     ...               \n",
       "619          2007       452.0          48           0  ...         774   \n",
       "871          1962         0.0           0           0  ...         308   \n",
       "93           2006         0.0         713           0  ...         432   \n",
       "818          2002       148.0        1218           0  ...         857   \n",
       "303          2002       150.0           0           0  ...         843   \n",
       "\n",
       "     WoodDeckSF  OpenPorchSF  EnclosedPorch  3SsnPorch  ScreenPorch  PoolArea  \\\n",
       "Id                                                                              \n",
       "619           0          108              0          0          260         0   \n",
       "871           0            0              0          0            0         0   \n",
       "93            0            0             44          0            0         0   \n",
       "818         150           59              0          0            0         0   \n",
       "303         468           81              0          0            0         0   \n",
       "\n",
       "     MiscVal  MoSold  YrSold  \n",
       "Id                            \n",
       "619        0       7    2007  \n",
       "871        0       8    2009  \n",
       "93         0       8    2009  \n",
       "818        0       7    2008  \n",
       "303        0       1    2006  \n",
       "\n",
       "[5 rows x 36 columns]"
      ]
     },
     "execution_count": 3,
     "metadata": {},
     "output_type": "execute_result"
    }
   ],
   "source": [
    "X_train.head()"
   ]
  },
  {
   "cell_type": "markdown",
   "id": "baf8a169",
   "metadata": {
    "papermill": {
     "duration": 0.035663,
     "end_time": "2022-05-01T16:26:56.457000",
     "exception": false,
     "start_time": "2022-05-01T16:26:56.421337",
     "status": "completed"
    },
    "tags": []
   },
   "source": [
    "You can already see a few missing values in the first several rows.  In the next step, you'll obtain a more comprehensive understanding of the missing values in the dataset.\n",
    "\n",
    "# Step 1: Preliminary investigation\n",
    "\n",
    "Run the code cell below without changes."
   ]
  },
  {
   "cell_type": "code",
   "execution_count": 4,
   "id": "2050ee9e",
   "metadata": {
    "execution": {
     "iopub.execute_input": "2022-05-01T16:26:56.531271Z",
     "iopub.status.busy": "2022-05-01T16:26:56.530650Z",
     "iopub.status.idle": "2022-05-01T16:26:56.539591Z",
     "shell.execute_reply": "2022-05-01T16:26:56.538711Z"
    },
    "papermill": {
     "duration": 0.048866,
     "end_time": "2022-05-01T16:26:56.541976",
     "exception": false,
     "start_time": "2022-05-01T16:26:56.493110",
     "status": "completed"
    },
    "tags": []
   },
   "outputs": [
    {
     "name": "stdout",
     "output_type": "stream",
     "text": [
      "(1168, 36)\n",
      "LotFrontage    212\n",
      "MasVnrArea       6\n",
      "GarageYrBlt     58\n",
      "dtype: int64\n"
     ]
    }
   ],
   "source": [
    "# Shape of training data (num_rows, num_columns)\n",
    "print(X_train.shape)\n",
    "\n",
    "# Number of missing values in each column of training data\n",
    "missing_val_count_by_column = (X_train.isnull().sum())\n",
    "print(missing_val_count_by_column[missing_val_count_by_column > 0])"
   ]
  },
  {
   "cell_type": "markdown",
   "id": "aa56a7fa",
   "metadata": {
    "papermill": {
     "duration": 0.035705,
     "end_time": "2022-05-01T16:26:56.614145",
     "exception": false,
     "start_time": "2022-05-01T16:26:56.578440",
     "status": "completed"
    },
    "tags": []
   },
   "source": [
    "### Part A\n",
    "\n",
    "Use the above output to answer the questions below."
   ]
  },
  {
   "cell_type": "code",
   "execution_count": 5,
   "id": "3dbf490c",
   "metadata": {
    "execution": {
     "iopub.execute_input": "2022-05-01T16:26:56.688385Z",
     "iopub.status.busy": "2022-05-01T16:26:56.687796Z",
     "iopub.status.idle": "2022-05-01T16:26:56.697149Z",
     "shell.execute_reply": "2022-05-01T16:26:56.696260Z"
    },
    "papermill": {
     "duration": 0.048826,
     "end_time": "2022-05-01T16:26:56.699095",
     "exception": false,
     "start_time": "2022-05-01T16:26:56.650269",
     "status": "completed"
    },
    "tags": []
   },
   "outputs": [
    {
     "data": {
      "application/javascript": [
       "parent.postMessage({\"jupyterEvent\": \"custom.exercise_interaction\", \"data\": {\"outcomeType\": 1, \"valueTowardsCompletion\": 1.0, \"interactionType\": 1, \"questionType\": 1, \"questionId\": \"1.1_InvestigateEquality\", \"learnToolsVersion\": \"0.3.4\", \"failureMessage\": \"\", \"exceptionClass\": \"\", \"trace\": \"\"}}, \"*\")"
      ],
      "text/plain": [
       "<IPython.core.display.Javascript object>"
      ]
     },
     "metadata": {},
     "output_type": "display_data"
    },
    {
     "data": {
      "text/markdown": [
       "<span style=\"color:#33cc33\">Correct</span>"
      ],
      "text/plain": [
       "Correct"
      ]
     },
     "metadata": {},
     "output_type": "display_data"
    }
   ],
   "source": [
    "# Fill in the line below: How many rows are in the training data?\n",
    "num_rows = 1168\n",
    "\n",
    "# Fill in the line below: How many columns in the training data\n",
    "# have missing values?\n",
    "num_cols_with_missing = 3\n",
    "\n",
    "# Fill in the line below: How many missing entries are contained in \n",
    "# all of the training data?\n",
    "tot_missing = 212+6+58\n",
    "\n",
    "# Check your answers\n",
    "step_1.a.check()"
   ]
  },
  {
   "cell_type": "code",
   "execution_count": 6,
   "id": "b51102a6",
   "metadata": {
    "execution": {
     "iopub.execute_input": "2022-05-01T16:26:56.775454Z",
     "iopub.status.busy": "2022-05-01T16:26:56.775121Z",
     "iopub.status.idle": "2022-05-01T16:26:56.778820Z",
     "shell.execute_reply": "2022-05-01T16:26:56.777801Z"
    },
    "papermill": {
     "duration": 0.04437,
     "end_time": "2022-05-01T16:26:56.780722",
     "exception": false,
     "start_time": "2022-05-01T16:26:56.736352",
     "status": "completed"
    },
    "tags": []
   },
   "outputs": [],
   "source": [
    "# Lines below will give you a hint or solution code\n",
    "#step_1.a.hint()\n",
    "#step_1.a.solution()"
   ]
  },
  {
   "cell_type": "markdown",
   "id": "abc59345",
   "metadata": {
    "papermill": {
     "duration": 0.038046,
     "end_time": "2022-05-01T16:26:56.857020",
     "exception": false,
     "start_time": "2022-05-01T16:26:56.818974",
     "status": "completed"
    },
    "tags": []
   },
   "source": [
    "### Part B\n",
    "Considering your answers above, what do you think is likely the best approach to dealing with the missing values?"
   ]
  },
  {
   "cell_type": "code",
   "execution_count": 7,
   "id": "76b8782e",
   "metadata": {
    "execution": {
     "iopub.execute_input": "2022-05-01T16:26:56.935205Z",
     "iopub.status.busy": "2022-05-01T16:26:56.934317Z",
     "iopub.status.idle": "2022-05-01T16:26:56.942101Z",
     "shell.execute_reply": "2022-05-01T16:26:56.941497Z"
    },
    "papermill": {
     "duration": 0.049195,
     "end_time": "2022-05-01T16:26:56.943982",
     "exception": false,
     "start_time": "2022-05-01T16:26:56.894787",
     "status": "completed"
    },
    "tags": []
   },
   "outputs": [
    {
     "data": {
      "application/javascript": [
       "parent.postMessage({\"jupyterEvent\": \"custom.exercise_interaction\", \"data\": {\"outcomeType\": 1, \"valueTowardsCompletion\": 1.0, \"interactionType\": 1, \"questionType\": 4, \"questionId\": \"1.2_InvestigateThought\", \"learnToolsVersion\": \"0.3.4\", \"failureMessage\": \"\", \"exceptionClass\": \"\", \"trace\": \"\"}}, \"*\")"
      ],
      "text/plain": [
       "<IPython.core.display.Javascript object>"
      ]
     },
     "metadata": {},
     "output_type": "display_data"
    },
    {
     "data": {
      "text/markdown": [
       "<span style=\"color:#33cc33\">Correct:</span> \n",
       "\n",
       "Since there are relatively few missing entries in the data (the column with the greatest percentage of missing values is missing less than 20% of its entries), we can expect that dropping columns is unlikely to yield good results.  This is because we'd be throwing away a lot of valuable data, and so imputation will likely perform better."
      ],
      "text/plain": [
       "Correct: \n",
       "\n",
       "Since there are relatively few missing entries in the data (the column with the greatest percentage of missing values is missing less than 20% of its entries), we can expect that dropping columns is unlikely to yield good results.  This is because we'd be throwing away a lot of valuable data, and so imputation will likely perform better."
      ]
     },
     "metadata": {},
     "output_type": "display_data"
    }
   ],
   "source": [
    "# Check your answer (Run this code cell to receive credit!)\n",
    "step_1.b.check()"
   ]
  },
  {
   "cell_type": "code",
   "execution_count": 8,
   "id": "6f150512",
   "metadata": {
    "execution": {
     "iopub.execute_input": "2022-05-01T16:26:57.023379Z",
     "iopub.status.busy": "2022-05-01T16:26:57.022438Z",
     "iopub.status.idle": "2022-05-01T16:26:57.026740Z",
     "shell.execute_reply": "2022-05-01T16:26:57.026014Z"
    },
    "papermill": {
     "duration": 0.046152,
     "end_time": "2022-05-01T16:26:57.028854",
     "exception": false,
     "start_time": "2022-05-01T16:26:56.982702",
     "status": "completed"
    },
    "tags": []
   },
   "outputs": [],
   "source": [
    "#step_1.b.hint()"
   ]
  },
  {
   "cell_type": "markdown",
   "id": "48c14974",
   "metadata": {
    "papermill": {
     "duration": 0.037968,
     "end_time": "2022-05-01T16:26:57.106500",
     "exception": false,
     "start_time": "2022-05-01T16:26:57.068532",
     "status": "completed"
    },
    "tags": []
   },
   "source": [
    "To compare different approaches to dealing with missing values, you'll use the same `score_dataset()` function from the tutorial.  This function reports the [mean absolute error](https://en.wikipedia.org/wiki/Mean_absolute_error) (MAE) from a random forest model."
   ]
  },
  {
   "cell_type": "code",
   "execution_count": 9,
   "id": "30ad6398",
   "metadata": {
    "execution": {
     "iopub.execute_input": "2022-05-01T16:26:57.184985Z",
     "iopub.status.busy": "2022-05-01T16:26:57.184453Z",
     "iopub.status.idle": "2022-05-01T16:26:57.404128Z",
     "shell.execute_reply": "2022-05-01T16:26:57.403208Z"
    },
    "papermill": {
     "duration": 0.262166,
     "end_time": "2022-05-01T16:26:57.406861",
     "exception": false,
     "start_time": "2022-05-01T16:26:57.144695",
     "status": "completed"
    },
    "tags": []
   },
   "outputs": [],
   "source": [
    "from sklearn.ensemble import RandomForestRegressor\n",
    "from sklearn.metrics import mean_absolute_error\n",
    "\n",
    "# Function for comparing different approaches\n",
    "def score_dataset(X_train, X_valid, y_train, y_valid):\n",
    "    model = RandomForestRegressor(n_estimators=100, random_state=0)\n",
    "    model.fit(X_train, y_train)\n",
    "    preds = model.predict(X_valid)\n",
    "    return mean_absolute_error(y_valid, preds)"
   ]
  },
  {
   "cell_type": "markdown",
   "id": "4f7b483d",
   "metadata": {
    "papermill": {
     "duration": 0.038041,
     "end_time": "2022-05-01T16:26:57.483410",
     "exception": false,
     "start_time": "2022-05-01T16:26:57.445369",
     "status": "completed"
    },
    "tags": []
   },
   "source": [
    "# Step 2: Drop columns with missing values\n",
    "\n",
    "In this step, you'll preprocess the data in `X_train` and `X_valid` to remove columns with missing values.  Set the preprocessed DataFrames to `reduced_X_train` and `reduced_X_valid`, respectively.  "
   ]
  },
  {
   "cell_type": "code",
   "execution_count": 10,
   "id": "2890174b",
   "metadata": {
    "execution": {
     "iopub.execute_input": "2022-05-01T16:26:57.561979Z",
     "iopub.status.busy": "2022-05-01T16:26:57.561613Z",
     "iopub.status.idle": "2022-05-01T16:26:57.597271Z",
     "shell.execute_reply": "2022-05-01T16:26:57.596473Z"
    },
    "papermill": {
     "duration": 0.077296,
     "end_time": "2022-05-01T16:26:57.599243",
     "exception": false,
     "start_time": "2022-05-01T16:26:57.521947",
     "status": "completed"
    },
    "tags": []
   },
   "outputs": [
    {
     "data": {
      "application/javascript": [
       "parent.postMessage({\"jupyterEvent\": \"custom.exercise_interaction\", \"data\": {\"outcomeType\": 1, \"valueTowardsCompletion\": 1.0, \"interactionType\": 1, \"questionType\": 2, \"questionId\": \"2_DropMissing\", \"learnToolsVersion\": \"0.3.4\", \"failureMessage\": \"\", \"exceptionClass\": \"\", \"trace\": \"\"}}, \"*\")"
      ],
      "text/plain": [
       "<IPython.core.display.Javascript object>"
      ]
     },
     "metadata": {},
     "output_type": "display_data"
    },
    {
     "data": {
      "text/markdown": [
       "<span style=\"color:#33cc33\">Correct</span>"
      ],
      "text/plain": [
       "Correct"
      ]
     },
     "metadata": {},
     "output_type": "display_data"
    }
   ],
   "source": [
    "# Fill in the line below: get names of columns with missing values\n",
    "cols_with_missing = [col for col in X_train.columns if X_train[col].isnull().any()] # Your code here\n",
    "\n",
    "# Fill in the lines below: drop columns in training and validation data\n",
    "reduced_X_train = X_train.drop(cols_with_missing, axis=1)\n",
    "reduced_X_valid = X_valid.drop(cols_with_missing, axis=1)\n",
    "\n",
    "# Check your answers\n",
    "step_2.check()"
   ]
  },
  {
   "cell_type": "code",
   "execution_count": 11,
   "id": "119234b7",
   "metadata": {
    "execution": {
     "iopub.execute_input": "2022-05-01T16:26:57.680778Z",
     "iopub.status.busy": "2022-05-01T16:26:57.680017Z",
     "iopub.status.idle": "2022-05-01T16:26:57.684308Z",
     "shell.execute_reply": "2022-05-01T16:26:57.683382Z"
    },
    "papermill": {
     "duration": 0.047842,
     "end_time": "2022-05-01T16:26:57.686576",
     "exception": false,
     "start_time": "2022-05-01T16:26:57.638734",
     "status": "completed"
    },
    "tags": []
   },
   "outputs": [],
   "source": [
    "# Lines below will give you a hint or solution code\n",
    "#step_2.hint()\n",
    "#step_2.solution()"
   ]
  },
  {
   "cell_type": "markdown",
   "id": "1d2ac1a0",
   "metadata": {
    "papermill": {
     "duration": 0.040535,
     "end_time": "2022-05-01T16:26:57.767413",
     "exception": false,
     "start_time": "2022-05-01T16:26:57.726878",
     "status": "completed"
    },
    "tags": []
   },
   "source": [
    "Run the next code cell without changes to obtain the MAE for this approach."
   ]
  },
  {
   "cell_type": "code",
   "execution_count": 12,
   "id": "1f4daa15",
   "metadata": {
    "execution": {
     "iopub.execute_input": "2022-05-01T16:26:57.850578Z",
     "iopub.status.busy": "2022-05-01T16:26:57.850262Z",
     "iopub.status.idle": "2022-05-01T16:26:58.999207Z",
     "shell.execute_reply": "2022-05-01T16:26:58.998150Z"
    },
    "papermill": {
     "duration": 1.193165,
     "end_time": "2022-05-01T16:26:59.001720",
     "exception": false,
     "start_time": "2022-05-01T16:26:57.808555",
     "status": "completed"
    },
    "tags": []
   },
   "outputs": [
    {
     "name": "stdout",
     "output_type": "stream",
     "text": [
      "MAE (Drop columns with missing values):\n",
      "17837.82570776256\n"
     ]
    }
   ],
   "source": [
    "print(\"MAE (Drop columns with missing values):\")\n",
    "print(score_dataset(reduced_X_train, reduced_X_valid, y_train, y_valid))"
   ]
  },
  {
   "cell_type": "markdown",
   "id": "7950bd11",
   "metadata": {
    "papermill": {
     "duration": 0.04025,
     "end_time": "2022-05-01T16:26:59.084501",
     "exception": false,
     "start_time": "2022-05-01T16:26:59.044251",
     "status": "completed"
    },
    "tags": []
   },
   "source": [
    "# Step 3: Imputation\n",
    "\n",
    "### Part A\n",
    "\n",
    "Use the next code cell to impute missing values with the mean value along each column.  Set the preprocessed DataFrames to `imputed_X_train` and `imputed_X_valid`.  Make sure that the column names match those in `X_train` and `X_valid`."
   ]
  },
  {
   "cell_type": "code",
   "execution_count": 13,
   "id": "bd558e32",
   "metadata": {
    "execution": {
     "iopub.execute_input": "2022-05-01T16:26:59.170200Z",
     "iopub.status.busy": "2022-05-01T16:26:59.169485Z",
     "iopub.status.idle": "2022-05-01T16:26:59.204462Z",
     "shell.execute_reply": "2022-05-01T16:26:59.203544Z"
    },
    "papermill": {
     "duration": 0.079011,
     "end_time": "2022-05-01T16:26:59.206581",
     "exception": false,
     "start_time": "2022-05-01T16:26:59.127570",
     "status": "completed"
    },
    "tags": []
   },
   "outputs": [
    {
     "data": {
      "application/javascript": [
       "parent.postMessage({\"jupyterEvent\": \"custom.exercise_interaction\", \"data\": {\"outcomeType\": 1, \"valueTowardsCompletion\": 1.0, \"interactionType\": 1, \"questionType\": 2, \"questionId\": \"3.1_ImputeCode\", \"learnToolsVersion\": \"0.3.4\", \"failureMessage\": \"\", \"exceptionClass\": \"\", \"trace\": \"\"}}, \"*\")"
      ],
      "text/plain": [
       "<IPython.core.display.Javascript object>"
      ]
     },
     "metadata": {},
     "output_type": "display_data"
    },
    {
     "data": {
      "text/markdown": [
       "<span style=\"color:#33cc33\">Correct</span>"
      ],
      "text/plain": [
       "Correct"
      ]
     },
     "metadata": {},
     "output_type": "display_data"
    }
   ],
   "source": [
    "from sklearn.impute import SimpleImputer\n",
    "\n",
    "# Fill in the lines below: imputation\n",
    "my_imputer = SimpleImputer() # Your code here\n",
    "imputed_X_train = pd.DataFrame(my_imputer.fit_transform(X_train))\n",
    "imputed_X_valid = pd.DataFrame(my_imputer.transform(X_valid))\n",
    "\n",
    "# Fill in the lines below: imputation removed column names; put them back\n",
    "imputed_X_train.columns = X_train.columns\n",
    "imputed_X_valid.columns = X_valid.columns\n",
    "\n",
    "# Check your answers\n",
    "step_3.a.check()"
   ]
  },
  {
   "cell_type": "code",
   "execution_count": 14,
   "id": "06e82809",
   "metadata": {
    "execution": {
     "iopub.execute_input": "2022-05-01T16:26:59.292132Z",
     "iopub.status.busy": "2022-05-01T16:26:59.291811Z",
     "iopub.status.idle": "2022-05-01T16:26:59.295756Z",
     "shell.execute_reply": "2022-05-01T16:26:59.294801Z"
    },
    "papermill": {
     "duration": 0.049629,
     "end_time": "2022-05-01T16:26:59.297900",
     "exception": false,
     "start_time": "2022-05-01T16:26:59.248271",
     "status": "completed"
    },
    "tags": []
   },
   "outputs": [],
   "source": [
    "# Lines below will give you a hint or solution code\n",
    "#step_3.a.hint()\n",
    "#step_3.a.solution()"
   ]
  },
  {
   "cell_type": "markdown",
   "id": "59a6c625",
   "metadata": {
    "papermill": {
     "duration": 0.041798,
     "end_time": "2022-05-01T16:26:59.381668",
     "exception": false,
     "start_time": "2022-05-01T16:26:59.339870",
     "status": "completed"
    },
    "tags": []
   },
   "source": [
    "Run the next code cell without changes to obtain the MAE for this approach."
   ]
  },
  {
   "cell_type": "code",
   "execution_count": 15,
   "id": "cddff38e",
   "metadata": {
    "execution": {
     "iopub.execute_input": "2022-05-01T16:26:59.467178Z",
     "iopub.status.busy": "2022-05-01T16:26:59.466486Z",
     "iopub.status.idle": "2022-05-01T16:27:00.721071Z",
     "shell.execute_reply": "2022-05-01T16:27:00.719866Z"
    },
    "papermill": {
     "duration": 1.299991,
     "end_time": "2022-05-01T16:27:00.723389",
     "exception": false,
     "start_time": "2022-05-01T16:26:59.423398",
     "status": "completed"
    },
    "tags": []
   },
   "outputs": [
    {
     "name": "stdout",
     "output_type": "stream",
     "text": [
      "MAE (Imputation):\n",
      "18062.894611872147\n"
     ]
    }
   ],
   "source": [
    "print(\"MAE (Imputation):\")\n",
    "print(score_dataset(imputed_X_train, imputed_X_valid, y_train, y_valid))"
   ]
  },
  {
   "cell_type": "markdown",
   "id": "363bc458",
   "metadata": {
    "papermill": {
     "duration": 0.046011,
     "end_time": "2022-05-01T16:27:00.812175",
     "exception": false,
     "start_time": "2022-05-01T16:27:00.766164",
     "status": "completed"
    },
    "tags": []
   },
   "source": [
    "### Part B\n",
    "\n",
    "Compare the MAE from each approach.  Does anything surprise you about the results?  Why do you think one approach performed better than the other?"
   ]
  },
  {
   "cell_type": "code",
   "execution_count": 16,
   "id": "0d45dd9b",
   "metadata": {
    "execution": {
     "iopub.execute_input": "2022-05-01T16:27:00.904344Z",
     "iopub.status.busy": "2022-05-01T16:27:00.904027Z",
     "iopub.status.idle": "2022-05-01T16:27:00.912137Z",
     "shell.execute_reply": "2022-05-01T16:27:00.911270Z"
    },
    "papermill": {
     "duration": 0.058614,
     "end_time": "2022-05-01T16:27:00.914303",
     "exception": false,
     "start_time": "2022-05-01T16:27:00.855689",
     "status": "completed"
    },
    "tags": []
   },
   "outputs": [
    {
     "data": {
      "application/javascript": [
       "parent.postMessage({\"jupyterEvent\": \"custom.exercise_interaction\", \"data\": {\"outcomeType\": 1, \"valueTowardsCompletion\": 1.0, \"interactionType\": 1, \"questionType\": 4, \"questionId\": \"3.2_ImputeThought\", \"learnToolsVersion\": \"0.3.4\", \"failureMessage\": \"\", \"exceptionClass\": \"\", \"trace\": \"\"}}, \"*\")"
      ],
      "text/plain": [
       "<IPython.core.display.Javascript object>"
      ]
     },
     "metadata": {},
     "output_type": "display_data"
    },
    {
     "data": {
      "text/markdown": [
       "<span style=\"color:#33cc33\">Correct:</span> \n",
       "\n",
       "Given that thre are so few missing values in the dataset, we'd expect imputation to perform better than dropping columns entirely.  However, we see that dropping columns performs slightly better!  While this can probably partially be attributed to noise in the dataset, another potential explanation is that the imputation method is not a great match to this dataset.  That is, maybe instead of filling in the mean value, it makes more sense to set every missing value to a value of 0, to fill in the most frequently encountered value, or to use some other method.  For instance, consider the `GarageYrBlt` column (which indicates the year that the garage was built).  It's likely that in some cases, a missing value could indicate a house that does not have a garage.  Does it make more sense to fill in the median value along each column in this case?  Or could we get better results by filling in the minimum value along each column?  It's not quite clear what's best in this case, but perhaps we can rule out some options immediately - for instance, setting missing values in this column to 0 is likely to yield horrible results!"
      ],
      "text/plain": [
       "Correct: \n",
       "\n",
       "Given that thre are so few missing values in the dataset, we'd expect imputation to perform better than dropping columns entirely.  However, we see that dropping columns performs slightly better!  While this can probably partially be attributed to noise in the dataset, another potential explanation is that the imputation method is not a great match to this dataset.  That is, maybe instead of filling in the mean value, it makes more sense to set every missing value to a value of 0, to fill in the most frequently encountered value, or to use some other method.  For instance, consider the `GarageYrBlt` column (which indicates the year that the garage was built).  It's likely that in some cases, a missing value could indicate a house that does not have a garage.  Does it make more sense to fill in the median value along each column in this case?  Or could we get better results by filling in the minimum value along each column?  It's not quite clear what's best in this case, but perhaps we can rule out some options immediately - for instance, setting missing values in this column to 0 is likely to yield horrible results!"
      ]
     },
     "metadata": {},
     "output_type": "display_data"
    }
   ],
   "source": [
    "# Check your answer (Run this code cell to receive credit!)\n",
    "step_3.b.check()"
   ]
  },
  {
   "cell_type": "code",
   "execution_count": 17,
   "id": "0673315b",
   "metadata": {
    "execution": {
     "iopub.execute_input": "2022-05-01T16:27:01.004382Z",
     "iopub.status.busy": "2022-05-01T16:27:01.004067Z",
     "iopub.status.idle": "2022-05-01T16:27:01.007325Z",
     "shell.execute_reply": "2022-05-01T16:27:01.006568Z"
    },
    "papermill": {
     "duration": 0.051591,
     "end_time": "2022-05-01T16:27:01.009515",
     "exception": false,
     "start_time": "2022-05-01T16:27:00.957924",
     "status": "completed"
    },
    "tags": []
   },
   "outputs": [],
   "source": [
    "#step_3.b.hint()"
   ]
  },
  {
   "cell_type": "markdown",
   "id": "43815e2e",
   "metadata": {
    "papermill": {
     "duration": 0.043246,
     "end_time": "2022-05-01T16:27:01.096658",
     "exception": false,
     "start_time": "2022-05-01T16:27:01.053412",
     "status": "completed"
    },
    "tags": []
   },
   "source": [
    "# Step 4: Generate test predictions\n",
    "\n",
    "In this final step, you'll use any approach of your choosing to deal with missing values.  Once you've preprocessed the training and validation features, you'll train and evaluate a random forest model.  Then, you'll preprocess the test data before generating predictions that can be submitted to the competition!\n",
    "\n",
    "### Part A\n",
    "\n",
    "Use the next code cell to preprocess the training and validation data.  Set the preprocessed DataFrames to `final_X_train` and `final_X_valid`.  **You can use any approach of your choosing here!**  in order for this step to be marked as correct, you need only ensure:\n",
    "- the preprocessed DataFrames have the same number of columns,\n",
    "- the preprocessed DataFrames have no missing values, \n",
    "- `final_X_train` and `y_train` have the same number of rows, and\n",
    "- `final_X_valid` and `y_valid` have the same number of rows."
   ]
  },
  {
   "cell_type": "code",
   "execution_count": 18,
   "id": "b6a57794",
   "metadata": {
    "execution": {
     "iopub.execute_input": "2022-05-01T16:27:01.185690Z",
     "iopub.status.busy": "2022-05-01T16:27:01.184873Z",
     "iopub.status.idle": "2022-05-01T16:27:01.214016Z",
     "shell.execute_reply": "2022-05-01T16:27:01.213439Z"
    },
    "papermill": {
     "duration": 0.07572,
     "end_time": "2022-05-01T16:27:01.215972",
     "exception": false,
     "start_time": "2022-05-01T16:27:01.140252",
     "status": "completed"
    },
    "tags": []
   },
   "outputs": [
    {
     "data": {
      "application/javascript": [
       "parent.postMessage({\"jupyterEvent\": \"custom.exercise_interaction\", \"data\": {\"outcomeType\": 1, \"valueTowardsCompletion\": 1.0, \"interactionType\": 1, \"questionType\": 2, \"questionId\": \"4.1_PredsCodeA\", \"learnToolsVersion\": \"0.3.4\", \"failureMessage\": \"\", \"exceptionClass\": \"\", \"trace\": \"\"}}, \"*\")"
      ],
      "text/plain": [
       "<IPython.core.display.Javascript object>"
      ]
     },
     "metadata": {},
     "output_type": "display_data"
    },
    {
     "data": {
      "text/markdown": [
       "<span style=\"color:#33cc33\">Correct</span>"
      ],
      "text/plain": [
       "Correct"
      ]
     },
     "metadata": {},
     "output_type": "display_data"
    }
   ],
   "source": [
    "# Preprocessed training and validation features\n",
    "final_X_train = pd.DataFrame(my_imputer.fit_transform(X_train))\n",
    "final_X_valid = pd.DataFrame(my_imputer.fit_transform(X_valid))\n",
    "\n",
    "# Check your answers\n",
    "step_4.a.check()"
   ]
  },
  {
   "cell_type": "code",
   "execution_count": 19,
   "id": "2b50069f",
   "metadata": {
    "execution": {
     "iopub.execute_input": "2022-05-01T16:27:01.307700Z",
     "iopub.status.busy": "2022-05-01T16:27:01.306844Z",
     "iopub.status.idle": "2022-05-01T16:27:01.310089Z",
     "shell.execute_reply": "2022-05-01T16:27:01.309527Z"
    },
    "papermill": {
     "duration": 0.051336,
     "end_time": "2022-05-01T16:27:01.311979",
     "exception": false,
     "start_time": "2022-05-01T16:27:01.260643",
     "status": "completed"
    },
    "tags": []
   },
   "outputs": [],
   "source": [
    "# Lines below will give you a hint or solution code\n",
    "#step_4.a.hint()\n",
    "#step_4.a.solution()"
   ]
  },
  {
   "cell_type": "markdown",
   "id": "a6347b5d",
   "metadata": {
    "papermill": {
     "duration": 0.046088,
     "end_time": "2022-05-01T16:27:01.402769",
     "exception": false,
     "start_time": "2022-05-01T16:27:01.356681",
     "status": "completed"
    },
    "tags": []
   },
   "source": [
    "Run the next code cell to train and evaluate a random forest model.  (*Note that we don't use the `score_dataset()` function above, because we will soon use the trained model to generate test predictions!*)"
   ]
  },
  {
   "cell_type": "code",
   "execution_count": 20,
   "id": "d4fc2c14",
   "metadata": {
    "execution": {
     "iopub.execute_input": "2022-05-01T16:27:01.496589Z",
     "iopub.status.busy": "2022-05-01T16:27:01.495912Z",
     "iopub.status.idle": "2022-05-01T16:27:04.041386Z",
     "shell.execute_reply": "2022-05-01T16:27:04.040430Z"
    },
    "papermill": {
     "duration": 2.59545,
     "end_time": "2022-05-01T16:27:04.044996",
     "exception": false,
     "start_time": "2022-05-01T16:27:01.449546",
     "status": "completed"
    },
    "tags": []
   },
   "outputs": [
    {
     "name": "stdout",
     "output_type": "stream",
     "text": [
      "MAE (Your approach):\n",
      "17655.539269406392\n"
     ]
    }
   ],
   "source": [
    "# Define and fit model\n",
    "model = RandomForestRegressor(n_estimators=200, random_state=0)\n",
    "model.fit(final_X_train, y_train)\n",
    "\n",
    "# Get validation predictions and MAE\n",
    "preds_valid = model.predict(final_X_valid)\n",
    "print(\"MAE (Your approach):\")\n",
    "print(mean_absolute_error(y_valid, preds_valid))"
   ]
  },
  {
   "cell_type": "markdown",
   "id": "7353a022",
   "metadata": {
    "papermill": {
     "duration": 0.044821,
     "end_time": "2022-05-01T16:27:04.136652",
     "exception": false,
     "start_time": "2022-05-01T16:27:04.091831",
     "status": "completed"
    },
    "tags": []
   },
   "source": [
    "### Part B\n",
    "\n",
    "Use the next code cell to preprocess your test data.  Make sure that you use a method that agrees with how you preprocessed the training and validation data, and set the preprocessed test features to `final_X_test`.\n",
    "\n",
    "Then, use the preprocessed test features and the trained model to generate test predictions in `preds_test`.\n",
    "\n",
    "In order for this step to be marked correct, you need only ensure:\n",
    "- the preprocessed test DataFrame has no missing values, and\n",
    "- `final_X_test` has the same number of rows as `X_test`."
   ]
  },
  {
   "cell_type": "code",
   "execution_count": 21,
   "id": "b72fb75e",
   "metadata": {
    "execution": {
     "iopub.execute_input": "2022-05-01T16:27:04.228363Z",
     "iopub.status.busy": "2022-05-01T16:27:04.228015Z",
     "iopub.status.idle": "2022-05-01T16:27:04.327837Z",
     "shell.execute_reply": "2022-05-01T16:27:04.327231Z"
    },
    "papermill": {
     "duration": 0.148072,
     "end_time": "2022-05-01T16:27:04.329785",
     "exception": false,
     "start_time": "2022-05-01T16:27:04.181713",
     "status": "completed"
    },
    "tags": []
   },
   "outputs": [
    {
     "data": {
      "application/javascript": [
       "parent.postMessage({\"jupyterEvent\": \"custom.exercise_interaction\", \"data\": {\"outcomeType\": 1, \"valueTowardsCompletion\": 1.0, \"interactionType\": 1, \"questionType\": 2, \"questionId\": \"4.2_PredsCodeB\", \"learnToolsVersion\": \"0.3.4\", \"failureMessage\": \"\", \"exceptionClass\": \"\", \"trace\": \"\"}}, \"*\")"
      ],
      "text/plain": [
       "<IPython.core.display.Javascript object>"
      ]
     },
     "metadata": {},
     "output_type": "display_data"
    },
    {
     "data": {
      "text/markdown": [
       "<span style=\"color:#33cc33\">Correct</span>"
      ],
      "text/plain": [
       "Correct"
      ]
     },
     "metadata": {},
     "output_type": "display_data"
    }
   ],
   "source": [
    "# Fill in the line below: preprocess test data\n",
    "final_X_test = pd.DataFrame(my_imputer.fit_transform(X_test))\n",
    "# Fill in the line below: get test predictions\n",
    "preds_test = model.predict(final_X_test)\n",
    "\n",
    "# Check your answers\n",
    "step_4.b.check()"
   ]
  },
  {
   "cell_type": "code",
   "execution_count": 22,
   "id": "6cba1c1c",
   "metadata": {
    "execution": {
     "iopub.execute_input": "2022-05-01T16:27:04.425986Z",
     "iopub.status.busy": "2022-05-01T16:27:04.424898Z",
     "iopub.status.idle": "2022-05-01T16:27:04.429277Z",
     "shell.execute_reply": "2022-05-01T16:27:04.428632Z"
    },
    "papermill": {
     "duration": 0.054528,
     "end_time": "2022-05-01T16:27:04.431220",
     "exception": false,
     "start_time": "2022-05-01T16:27:04.376692",
     "status": "completed"
    },
    "tags": []
   },
   "outputs": [],
   "source": [
    "# Lines below will give you a hint or solution code\n",
    "# step_4.b.hint()\n",
    "# step_4.b.solution()"
   ]
  },
  {
   "cell_type": "markdown",
   "id": "86667a98",
   "metadata": {
    "papermill": {
     "duration": 0.046711,
     "end_time": "2022-05-01T16:27:04.526880",
     "exception": false,
     "start_time": "2022-05-01T16:27:04.480169",
     "status": "completed"
    },
    "tags": []
   },
   "source": [
    "Run the next code cell without changes to save your results to a CSV file that can be submitted directly to the competition."
   ]
  },
  {
   "cell_type": "code",
   "execution_count": 23,
   "id": "f3d02b6f",
   "metadata": {
    "execution": {
     "iopub.execute_input": "2022-05-01T16:27:04.621595Z",
     "iopub.status.busy": "2022-05-01T16:27:04.621215Z",
     "iopub.status.idle": "2022-05-01T16:27:04.634370Z",
     "shell.execute_reply": "2022-05-01T16:27:04.633405Z"
    },
    "papermill": {
     "duration": 0.063894,
     "end_time": "2022-05-01T16:27:04.636981",
     "exception": false,
     "start_time": "2022-05-01T16:27:04.573087",
     "status": "completed"
    },
    "tags": []
   },
   "outputs": [],
   "source": [
    "# Save test predictions to file\n",
    "output = pd.DataFrame({'Id': X_test.index,\n",
    "                       'SalePrice': preds_test})\n",
    "output.to_csv('submission.csv', index=False)"
   ]
  },
  {
   "cell_type": "markdown",
   "id": "402d3db3",
   "metadata": {
    "papermill": {
     "duration": 0.04611,
     "end_time": "2022-05-01T16:27:04.730586",
     "exception": false,
     "start_time": "2022-05-01T16:27:04.684476",
     "status": "completed"
    },
    "tags": []
   },
   "source": [
    "# Submit your results\n",
    "\n",
    "Once you have successfully completed Step 4, you're ready to submit your results to the leaderboard!  (_You also learned how to do this in the previous exercise.  If you need a reminder of how to do this, please use the instructions below._)  \n",
    "\n",
    "First, you'll need to join the competition if you haven't already.  So open a new window by clicking on [this link](https://www.kaggle.com/c/home-data-for-ml-course).  Then click on the **Join Competition** button.\n",
    "\n",
    "![join competition image](https://i.imgur.com/wLmFtH3.png)\n",
    "\n",
    "Next, follow the instructions below:\n",
    "1. Begin by clicking on the blue **Save Version** button in the top right corner of the window.  This will generate a pop-up window.  \n",
    "2. Ensure that the **Save and Run All** option is selected, and then click on the blue **Save** button.\n",
    "3. This generates a window in the bottom left corner of the notebook.  After it has finished running, click on the number to the right of the **Save Version** button.  This pulls up a list of versions on the right of the screen.  Click on the ellipsis **(...)** to the right of the most recent version, and select **Open in Viewer**.  This brings you into view mode of the same page. You will need to scroll down to get back to these instructions.\n",
    "4. Click on the **Output** tab on the right of the screen.  Then, click on the file you would like to submit, and click on the blue **Submit** button to submit your results to the leaderboard.\n",
    "\n",
    "You have now successfully submitted to the competition!\n",
    "\n",
    "If you want to keep working to improve your performance, select the blue **Edit** button in the top right of the screen. Then you can change your code and repeat the process. There's a lot of room to improve, and you will climb up the leaderboard as you work.\n",
    "\n",
    "\n",
    "# Keep going\n",
    "\n",
    "Move on to learn what **[categorical variables](https://www.kaggle.com/alexisbcook/categorical-variables)** are, along with how to incorporate them into your machine learning models.  Categorical variables are very common in real-world data, but you'll get an error if you try to plug them into your models without processing them first!"
   ]
  },
  {
   "cell_type": "markdown",
   "id": "053a7938",
   "metadata": {
    "papermill": {
     "duration": 0.046465,
     "end_time": "2022-05-01T16:27:04.823965",
     "exception": false,
     "start_time": "2022-05-01T16:27:04.777500",
     "status": "completed"
    },
    "tags": []
   },
   "source": [
    "---\n",
    "\n",
    "\n",
    "\n",
    "\n",
    "*Have questions or comments? Visit the [Learn Discussion forum](https://www.kaggle.com/learn-forum/161289) to chat with other Learners.*"
   ]
  }
 ],
 "metadata": {
  "kernelspec": {
   "display_name": "Python 3",
   "language": "python",
   "name": "python3"
  },
  "language_info": {
   "codemirror_mode": {
    "name": "ipython",
    "version": 3
   },
   "file_extension": ".py",
   "mimetype": "text/x-python",
   "name": "python",
   "nbconvert_exporter": "python",
   "pygments_lexer": "ipython3",
   "version": "3.7.12"
  },
  "papermill": {
   "default_parameters": {},
   "duration": 21.751489,
   "end_time": "2022-05-01T16:27:05.793899",
   "environment_variables": {},
   "exception": null,
   "input_path": "__notebook__.ipynb",
   "output_path": "__notebook__.ipynb",
   "parameters": {},
   "start_time": "2022-05-01T16:26:44.042410",
   "version": "2.3.4"
  }
 },
 "nbformat": 4,
 "nbformat_minor": 5
}
