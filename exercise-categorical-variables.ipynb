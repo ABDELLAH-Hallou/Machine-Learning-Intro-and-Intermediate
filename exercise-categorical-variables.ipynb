{
 "cells": [
  {
   "cell_type": "markdown",
   "id": "b95acd26",
   "metadata": {
    "papermill": {
     "duration": 0.038345,
     "end_time": "2022-05-01T16:29:03.100456",
     "exception": false,
     "start_time": "2022-05-01T16:29:03.062111",
     "status": "completed"
    },
    "tags": []
   },
   "source": [
    "**This notebook is an exercise in the [Intermediate Machine Learning](https://www.kaggle.com/learn/intermediate-machine-learning) course.  You can reference the tutorial at [this link](https://www.kaggle.com/alexisbcook/categorical-variables).**\n",
    "\n",
    "---\n"
   ]
  },
  {
   "cell_type": "markdown",
   "id": "eb4b91c7",
   "metadata": {
    "papermill": {
     "duration": 0.036987,
     "end_time": "2022-05-01T16:29:03.174546",
     "exception": false,
     "start_time": "2022-05-01T16:29:03.137559",
     "status": "completed"
    },
    "tags": []
   },
   "source": [
    "By encoding **categorical variables**, you'll obtain your best results thus far!\n",
    "\n",
    "# Setup\n",
    "\n",
    "The questions below will give you feedback on your work. Run the following cell to set up the feedback system."
   ]
  },
  {
   "cell_type": "code",
   "execution_count": 1,
   "id": "4ceb8a66",
   "metadata": {
    "execution": {
     "iopub.execute_input": "2022-05-01T16:29:03.253730Z",
     "iopub.status.busy": "2022-05-01T16:29:03.253294Z",
     "iopub.status.idle": "2022-05-01T16:29:03.301609Z",
     "shell.execute_reply": "2022-05-01T16:29:03.300618Z"
    },
    "papermill": {
     "duration": 0.091319,
     "end_time": "2022-05-01T16:29:03.304240",
     "exception": false,
     "start_time": "2022-05-01T16:29:03.212921",
     "status": "completed"
    },
    "tags": []
   },
   "outputs": [
    {
     "name": "stdout",
     "output_type": "stream",
     "text": [
      "Setup Complete\n"
     ]
    }
   ],
   "source": [
    "# Set up code checking\n",
    "import os\n",
    "if not os.path.exists(\"../input/train.csv\"):\n",
    "    os.symlink(\"../input/home-data-for-ml-course/train.csv\", \"../input/train.csv\")  \n",
    "    os.symlink(\"../input/home-data-for-ml-course/test.csv\", \"../input/test.csv\") \n",
    "from learntools.core import binder\n",
    "binder.bind(globals())\n",
    "from learntools.ml_intermediate.ex3 import *\n",
    "print(\"Setup Complete\")"
   ]
  },
  {
   "cell_type": "markdown",
   "id": "3842d4f4",
   "metadata": {
    "papermill": {
     "duration": 0.038293,
     "end_time": "2022-05-01T16:29:03.390249",
     "exception": false,
     "start_time": "2022-05-01T16:29:03.351956",
     "status": "completed"
    },
    "tags": []
   },
   "source": [
    "In this exercise, you will work with data from the [Housing Prices Competition for Kaggle Learn Users](https://www.kaggle.com/c/home-data-for-ml-course). \n",
    "\n",
    "![Ames Housing dataset image](https://i.imgur.com/lTJVG4e.png)\n",
    "\n",
    "Run the next code cell without changes to load the training and validation sets in `X_train`, `X_valid`, `y_train`, and `y_valid`.  The test set is loaded in `X_test`."
   ]
  },
  {
   "cell_type": "code",
   "execution_count": 2,
   "id": "37c6e74d",
   "metadata": {
    "execution": {
     "iopub.execute_input": "2022-05-01T16:29:03.468704Z",
     "iopub.status.busy": "2022-05-01T16:29:03.468384Z",
     "iopub.status.idle": "2022-05-01T16:29:04.787849Z",
     "shell.execute_reply": "2022-05-01T16:29:04.787072Z"
    },
    "papermill": {
     "duration": 1.360781,
     "end_time": "2022-05-01T16:29:04.790045",
     "exception": false,
     "start_time": "2022-05-01T16:29:03.429264",
     "status": "completed"
    },
    "tags": []
   },
   "outputs": [],
   "source": [
    "import pandas as pd\n",
    "from sklearn.model_selection import train_test_split\n",
    "\n",
    "# Read the data\n",
    "X = pd.read_csv('../input/train.csv', index_col='Id') \n",
    "X_test = pd.read_csv('../input/test.csv', index_col='Id')\n",
    "\n",
    "# Remove rows with missing target, separate target from predictors\n",
    "X.dropna(axis=0, subset=['SalePrice'], inplace=True)\n",
    "y = X.SalePrice\n",
    "X.drop(['SalePrice'], axis=1, inplace=True)\n",
    "\n",
    "# To keep things simple, we'll drop columns with missing values\n",
    "cols_with_missing = [col for col in X.columns if X[col].isnull().any()] \n",
    "X.drop(cols_with_missing, axis=1, inplace=True)\n",
    "X_test.drop(cols_with_missing, axis=1, inplace=True)\n",
    "\n",
    "# Break off validation set from training data\n",
    "X_train, X_valid, y_train, y_valid = train_test_split(X, y,\n",
    "                                                      train_size=0.8, test_size=0.2,\n",
    "                                                      random_state=0)"
   ]
  },
  {
   "cell_type": "markdown",
   "id": "f5ce0ba9",
   "metadata": {
    "papermill": {
     "duration": 0.037524,
     "end_time": "2022-05-01T16:29:04.865306",
     "exception": false,
     "start_time": "2022-05-01T16:29:04.827782",
     "status": "completed"
    },
    "tags": []
   },
   "source": [
    "Use the next code cell to print the first five rows of the data."
   ]
  },
  {
   "cell_type": "code",
   "execution_count": 3,
   "id": "88436b92",
   "metadata": {
    "execution": {
     "iopub.execute_input": "2022-05-01T16:29:04.943372Z",
     "iopub.status.busy": "2022-05-01T16:29:04.943085Z",
     "iopub.status.idle": "2022-05-01T16:29:04.971799Z",
     "shell.execute_reply": "2022-05-01T16:29:04.971115Z"
    },
    "papermill": {
     "duration": 0.069303,
     "end_time": "2022-05-01T16:29:04.973837",
     "exception": false,
     "start_time": "2022-05-01T16:29:04.904534",
     "status": "completed"
    },
    "tags": []
   },
   "outputs": [
    {
     "data": {
      "text/html": [
       "<div>\n",
       "<style scoped>\n",
       "    .dataframe tbody tr th:only-of-type {\n",
       "        vertical-align: middle;\n",
       "    }\n",
       "\n",
       "    .dataframe tbody tr th {\n",
       "        vertical-align: top;\n",
       "    }\n",
       "\n",
       "    .dataframe thead th {\n",
       "        text-align: right;\n",
       "    }\n",
       "</style>\n",
       "<table border=\"1\" class=\"dataframe\">\n",
       "  <thead>\n",
       "    <tr style=\"text-align: right;\">\n",
       "      <th></th>\n",
       "      <th>MSSubClass</th>\n",
       "      <th>MSZoning</th>\n",
       "      <th>LotArea</th>\n",
       "      <th>Street</th>\n",
       "      <th>LotShape</th>\n",
       "      <th>LandContour</th>\n",
       "      <th>Utilities</th>\n",
       "      <th>LotConfig</th>\n",
       "      <th>LandSlope</th>\n",
       "      <th>Neighborhood</th>\n",
       "      <th>...</th>\n",
       "      <th>OpenPorchSF</th>\n",
       "      <th>EnclosedPorch</th>\n",
       "      <th>3SsnPorch</th>\n",
       "      <th>ScreenPorch</th>\n",
       "      <th>PoolArea</th>\n",
       "      <th>MiscVal</th>\n",
       "      <th>MoSold</th>\n",
       "      <th>YrSold</th>\n",
       "      <th>SaleType</th>\n",
       "      <th>SaleCondition</th>\n",
       "    </tr>\n",
       "    <tr>\n",
       "      <th>Id</th>\n",
       "      <th></th>\n",
       "      <th></th>\n",
       "      <th></th>\n",
       "      <th></th>\n",
       "      <th></th>\n",
       "      <th></th>\n",
       "      <th></th>\n",
       "      <th></th>\n",
       "      <th></th>\n",
       "      <th></th>\n",
       "      <th></th>\n",
       "      <th></th>\n",
       "      <th></th>\n",
       "      <th></th>\n",
       "      <th></th>\n",
       "      <th></th>\n",
       "      <th></th>\n",
       "      <th></th>\n",
       "      <th></th>\n",
       "      <th></th>\n",
       "      <th></th>\n",
       "    </tr>\n",
       "  </thead>\n",
       "  <tbody>\n",
       "    <tr>\n",
       "      <th>619</th>\n",
       "      <td>20</td>\n",
       "      <td>RL</td>\n",
       "      <td>11694</td>\n",
       "      <td>Pave</td>\n",
       "      <td>Reg</td>\n",
       "      <td>Lvl</td>\n",
       "      <td>AllPub</td>\n",
       "      <td>Inside</td>\n",
       "      <td>Gtl</td>\n",
       "      <td>NridgHt</td>\n",
       "      <td>...</td>\n",
       "      <td>108</td>\n",
       "      <td>0</td>\n",
       "      <td>0</td>\n",
       "      <td>260</td>\n",
       "      <td>0</td>\n",
       "      <td>0</td>\n",
       "      <td>7</td>\n",
       "      <td>2007</td>\n",
       "      <td>New</td>\n",
       "      <td>Partial</td>\n",
       "    </tr>\n",
       "    <tr>\n",
       "      <th>871</th>\n",
       "      <td>20</td>\n",
       "      <td>RL</td>\n",
       "      <td>6600</td>\n",
       "      <td>Pave</td>\n",
       "      <td>Reg</td>\n",
       "      <td>Lvl</td>\n",
       "      <td>AllPub</td>\n",
       "      <td>Inside</td>\n",
       "      <td>Gtl</td>\n",
       "      <td>NAmes</td>\n",
       "      <td>...</td>\n",
       "      <td>0</td>\n",
       "      <td>0</td>\n",
       "      <td>0</td>\n",
       "      <td>0</td>\n",
       "      <td>0</td>\n",
       "      <td>0</td>\n",
       "      <td>8</td>\n",
       "      <td>2009</td>\n",
       "      <td>WD</td>\n",
       "      <td>Normal</td>\n",
       "    </tr>\n",
       "    <tr>\n",
       "      <th>93</th>\n",
       "      <td>30</td>\n",
       "      <td>RL</td>\n",
       "      <td>13360</td>\n",
       "      <td>Pave</td>\n",
       "      <td>IR1</td>\n",
       "      <td>HLS</td>\n",
       "      <td>AllPub</td>\n",
       "      <td>Inside</td>\n",
       "      <td>Gtl</td>\n",
       "      <td>Crawfor</td>\n",
       "      <td>...</td>\n",
       "      <td>0</td>\n",
       "      <td>44</td>\n",
       "      <td>0</td>\n",
       "      <td>0</td>\n",
       "      <td>0</td>\n",
       "      <td>0</td>\n",
       "      <td>8</td>\n",
       "      <td>2009</td>\n",
       "      <td>WD</td>\n",
       "      <td>Normal</td>\n",
       "    </tr>\n",
       "    <tr>\n",
       "      <th>818</th>\n",
       "      <td>20</td>\n",
       "      <td>RL</td>\n",
       "      <td>13265</td>\n",
       "      <td>Pave</td>\n",
       "      <td>IR1</td>\n",
       "      <td>Lvl</td>\n",
       "      <td>AllPub</td>\n",
       "      <td>CulDSac</td>\n",
       "      <td>Gtl</td>\n",
       "      <td>Mitchel</td>\n",
       "      <td>...</td>\n",
       "      <td>59</td>\n",
       "      <td>0</td>\n",
       "      <td>0</td>\n",
       "      <td>0</td>\n",
       "      <td>0</td>\n",
       "      <td>0</td>\n",
       "      <td>7</td>\n",
       "      <td>2008</td>\n",
       "      <td>WD</td>\n",
       "      <td>Normal</td>\n",
       "    </tr>\n",
       "    <tr>\n",
       "      <th>303</th>\n",
       "      <td>20</td>\n",
       "      <td>RL</td>\n",
       "      <td>13704</td>\n",
       "      <td>Pave</td>\n",
       "      <td>IR1</td>\n",
       "      <td>Lvl</td>\n",
       "      <td>AllPub</td>\n",
       "      <td>Corner</td>\n",
       "      <td>Gtl</td>\n",
       "      <td>CollgCr</td>\n",
       "      <td>...</td>\n",
       "      <td>81</td>\n",
       "      <td>0</td>\n",
       "      <td>0</td>\n",
       "      <td>0</td>\n",
       "      <td>0</td>\n",
       "      <td>0</td>\n",
       "      <td>1</td>\n",
       "      <td>2006</td>\n",
       "      <td>WD</td>\n",
       "      <td>Normal</td>\n",
       "    </tr>\n",
       "  </tbody>\n",
       "</table>\n",
       "<p>5 rows × 60 columns</p>\n",
       "</div>"
      ],
      "text/plain": [
       "     MSSubClass MSZoning  LotArea Street LotShape LandContour Utilities  \\\n",
       "Id                                                                        \n",
       "619          20       RL    11694   Pave      Reg         Lvl    AllPub   \n",
       "871          20       RL     6600   Pave      Reg         Lvl    AllPub   \n",
       "93           30       RL    13360   Pave      IR1         HLS    AllPub   \n",
       "818          20       RL    13265   Pave      IR1         Lvl    AllPub   \n",
       "303          20       RL    13704   Pave      IR1         Lvl    AllPub   \n",
       "\n",
       "    LotConfig LandSlope Neighborhood  ... OpenPorchSF EnclosedPorch 3SsnPorch  \\\n",
       "Id                                    ...                                       \n",
       "619    Inside       Gtl      NridgHt  ...         108             0         0   \n",
       "871    Inside       Gtl        NAmes  ...           0             0         0   \n",
       "93     Inside       Gtl      Crawfor  ...           0            44         0   \n",
       "818   CulDSac       Gtl      Mitchel  ...          59             0         0   \n",
       "303    Corner       Gtl      CollgCr  ...          81             0         0   \n",
       "\n",
       "    ScreenPorch  PoolArea  MiscVal  MoSold  YrSold SaleType SaleCondition  \n",
       "Id                                                                         \n",
       "619         260         0        0       7    2007      New       Partial  \n",
       "871           0         0        0       8    2009       WD        Normal  \n",
       "93            0         0        0       8    2009       WD        Normal  \n",
       "818           0         0        0       7    2008       WD        Normal  \n",
       "303           0         0        0       1    2006       WD        Normal  \n",
       "\n",
       "[5 rows x 60 columns]"
      ]
     },
     "execution_count": 3,
     "metadata": {},
     "output_type": "execute_result"
    }
   ],
   "source": [
    "X_train.head()"
   ]
  },
  {
   "cell_type": "markdown",
   "id": "39bfa537",
   "metadata": {
    "papermill": {
     "duration": 0.037718,
     "end_time": "2022-05-01T16:29:05.049914",
     "exception": false,
     "start_time": "2022-05-01T16:29:05.012196",
     "status": "completed"
    },
    "tags": []
   },
   "source": [
    "Notice that the dataset contains both numerical and categorical variables.  You'll need to encode the categorical data before training a model.\n",
    "\n",
    "To compare different models, you'll use the same `score_dataset()` function from the tutorial.  This function reports the [mean absolute error](https://en.wikipedia.org/wiki/Mean_absolute_error) (MAE) from a random forest model."
   ]
  },
  {
   "cell_type": "code",
   "execution_count": 4,
   "id": "901e9c53",
   "metadata": {
    "execution": {
     "iopub.execute_input": "2022-05-01T16:29:05.127914Z",
     "iopub.status.busy": "2022-05-01T16:29:05.127405Z",
     "iopub.status.idle": "2022-05-01T16:29:05.343454Z",
     "shell.execute_reply": "2022-05-01T16:29:05.342553Z"
    },
    "papermill": {
     "duration": 0.257812,
     "end_time": "2022-05-01T16:29:05.345814",
     "exception": false,
     "start_time": "2022-05-01T16:29:05.088002",
     "status": "completed"
    },
    "tags": []
   },
   "outputs": [],
   "source": [
    "from sklearn.ensemble import RandomForestRegressor\n",
    "from sklearn.metrics import mean_absolute_error\n",
    "\n",
    "# function for comparing different approaches\n",
    "def score_dataset(X_train, X_valid, y_train, y_valid):\n",
    "    model = RandomForestRegressor(n_estimators=200, random_state=0)\n",
    "    model.fit(X_train, y_train)\n",
    "    preds = model.predict(X_valid)\n",
    "    return mean_absolute_error(y_valid, preds)"
   ]
  },
  {
   "cell_type": "markdown",
   "id": "cbfd39e3",
   "metadata": {
    "papermill": {
     "duration": 0.038162,
     "end_time": "2022-05-01T16:29:05.422257",
     "exception": false,
     "start_time": "2022-05-01T16:29:05.384095",
     "status": "completed"
    },
    "tags": []
   },
   "source": [
    "# Step 1: Drop columns with categorical data\n",
    "\n",
    "You'll get started with the most straightforward approach.  Use the code cell below to preprocess the data in `X_train` and `X_valid` to remove columns with categorical data.  Set the preprocessed DataFrames to `drop_X_train` and `drop_X_valid`, respectively.  "
   ]
  },
  {
   "cell_type": "code",
   "execution_count": 5,
   "id": "7bf1cbb2",
   "metadata": {
    "execution": {
     "iopub.execute_input": "2022-05-01T16:29:05.503464Z",
     "iopub.status.busy": "2022-05-01T16:29:05.503165Z",
     "iopub.status.idle": "2022-05-01T16:29:05.514813Z",
     "shell.execute_reply": "2022-05-01T16:29:05.514234Z"
    },
    "papermill": {
     "duration": 0.05508,
     "end_time": "2022-05-01T16:29:05.516453",
     "exception": false,
     "start_time": "2022-05-01T16:29:05.461373",
     "status": "completed"
    },
    "tags": []
   },
   "outputs": [
    {
     "data": {
      "application/javascript": [
       "parent.postMessage({\"jupyterEvent\": \"custom.exercise_interaction\", \"data\": {\"outcomeType\": 1, \"valueTowardsCompletion\": 0.5, \"interactionType\": 1, \"questionType\": 2, \"questionId\": \"1_Drop\", \"learnToolsVersion\": \"0.3.4\", \"failureMessage\": \"\", \"exceptionClass\": \"\", \"trace\": \"\"}}, \"*\")"
      ],
      "text/plain": [
       "<IPython.core.display.Javascript object>"
      ]
     },
     "metadata": {},
     "output_type": "display_data"
    },
    {
     "data": {
      "text/markdown": [
       "<span style=\"color:#33cc33\">Correct</span>"
      ],
      "text/plain": [
       "Correct"
      ]
     },
     "metadata": {},
     "output_type": "display_data"
    }
   ],
   "source": [
    "# Fill in the lines below: drop columns in training and validation data\n",
    "drop_X_train = X_train.select_dtypes(exclude=['object'])\n",
    "drop_X_valid = X_valid.select_dtypes(exclude=['object'])\n",
    "\n",
    "# Check your answers\n",
    "step_1.check()"
   ]
  },
  {
   "cell_type": "code",
   "execution_count": 6,
   "id": "54c2f56e",
   "metadata": {
    "execution": {
     "iopub.execute_input": "2022-05-01T16:29:05.596565Z",
     "iopub.status.busy": "2022-05-01T16:29:05.596087Z",
     "iopub.status.idle": "2022-05-01T16:29:05.600052Z",
     "shell.execute_reply": "2022-05-01T16:29:05.599249Z"
    },
    "papermill": {
     "duration": 0.046611,
     "end_time": "2022-05-01T16:29:05.602308",
     "exception": false,
     "start_time": "2022-05-01T16:29:05.555697",
     "status": "completed"
    },
    "tags": []
   },
   "outputs": [],
   "source": [
    "# Lines below will give you a hint or solution code\n",
    "# step_1.hint()\n",
    "# step_1.solution()"
   ]
  },
  {
   "cell_type": "markdown",
   "id": "613c20ee",
   "metadata": {
    "papermill": {
     "duration": 0.038912,
     "end_time": "2022-05-01T16:29:05.680588",
     "exception": false,
     "start_time": "2022-05-01T16:29:05.641676",
     "status": "completed"
    },
    "tags": []
   },
   "source": [
    "Run the next code cell to get the MAE for this approach."
   ]
  },
  {
   "cell_type": "code",
   "execution_count": 7,
   "id": "b424a1e8",
   "metadata": {
    "execution": {
     "iopub.execute_input": "2022-05-01T16:29:05.760700Z",
     "iopub.status.busy": "2022-05-01T16:29:05.760265Z",
     "iopub.status.idle": "2022-05-01T16:29:08.007546Z",
     "shell.execute_reply": "2022-05-01T16:29:08.006517Z"
    },
    "papermill": {
     "duration": 2.289761,
     "end_time": "2022-05-01T16:29:08.009681",
     "exception": false,
     "start_time": "2022-05-01T16:29:05.719920",
     "status": "completed"
    },
    "tags": []
   },
   "outputs": [
    {
     "name": "stdout",
     "output_type": "stream",
     "text": [
      "MAE from Approach 1 (Drop categorical variables):\n",
      "17405.510861872146\n"
     ]
    }
   ],
   "source": [
    "print(\"MAE from Approach 1 (Drop categorical variables):\")\n",
    "print(score_dataset(drop_X_train, drop_X_valid, y_train, y_valid))"
   ]
  },
  {
   "cell_type": "markdown",
   "id": "16d6e611",
   "metadata": {
    "papermill": {
     "duration": 0.039415,
     "end_time": "2022-05-01T16:29:08.090033",
     "exception": false,
     "start_time": "2022-05-01T16:29:08.050618",
     "status": "completed"
    },
    "tags": []
   },
   "source": [
    "Before jumping into ordinal encoding, we'll investigate the dataset.  Specifically, we'll look at the `'Condition2'` column.  The code cell below prints the unique entries in both the training and validation sets."
   ]
  },
  {
   "cell_type": "code",
   "execution_count": 8,
   "id": "e6a82289",
   "metadata": {
    "execution": {
     "iopub.execute_input": "2022-05-01T16:29:08.172249Z",
     "iopub.status.busy": "2022-05-01T16:29:08.171101Z",
     "iopub.status.idle": "2022-05-01T16:29:08.179341Z",
     "shell.execute_reply": "2022-05-01T16:29:08.178157Z"
    },
    "papermill": {
     "duration": 0.051175,
     "end_time": "2022-05-01T16:29:08.181414",
     "exception": false,
     "start_time": "2022-05-01T16:29:08.130239",
     "status": "completed"
    },
    "tags": []
   },
   "outputs": [
    {
     "name": "stdout",
     "output_type": "stream",
     "text": [
      "Unique values in 'Condition2' column in training data: ['Norm' 'PosA' 'Feedr' 'PosN' 'Artery' 'RRAe']\n",
      "\n",
      "Unique values in 'Condition2' column in validation data: ['Norm' 'RRAn' 'RRNn' 'Artery' 'Feedr' 'PosN']\n"
     ]
    }
   ],
   "source": [
    "print(\"Unique values in 'Condition2' column in training data:\", X_train['Condition2'].unique())\n",
    "print(\"\\nUnique values in 'Condition2' column in validation data:\", X_valid['Condition2'].unique())"
   ]
  },
  {
   "cell_type": "markdown",
   "id": "e979f4dd",
   "metadata": {
    "papermill": {
     "duration": 0.040245,
     "end_time": "2022-05-01T16:29:08.262018",
     "exception": false,
     "start_time": "2022-05-01T16:29:08.221773",
     "status": "completed"
    },
    "tags": []
   },
   "source": [
    "# Step 2: Ordinal encoding\n",
    "\n",
    "### Part A\n",
    "\n",
    "If you now write code to: \n",
    "- fit an ordinal encoder to the training data, and then \n",
    "- use it to transform both the training and validation data, \n",
    "\n",
    "you'll get an error.  Can you see why this is the case?  (_You'll need  to use the above output to answer this question._)"
   ]
  },
  {
   "cell_type": "code",
   "execution_count": 9,
   "id": "299c0bf7",
   "metadata": {
    "execution": {
     "iopub.execute_input": "2022-05-01T16:29:08.343955Z",
     "iopub.status.busy": "2022-05-01T16:29:08.343424Z",
     "iopub.status.idle": "2022-05-01T16:29:08.349364Z",
     "shell.execute_reply": "2022-05-01T16:29:08.348819Z"
    },
    "papermill": {
     "duration": 0.048963,
     "end_time": "2022-05-01T16:29:08.351087",
     "exception": false,
     "start_time": "2022-05-01T16:29:08.302124",
     "status": "completed"
    },
    "tags": []
   },
   "outputs": [
    {
     "data": {
      "application/javascript": [
       "parent.postMessage({\"jupyterEvent\": \"custom.exercise_interaction\", \"data\": {\"outcomeType\": 1, \"valueTowardsCompletion\": 0.5, \"interactionType\": 1, \"questionType\": 4, \"questionId\": \"2.1_LabelA\", \"learnToolsVersion\": \"0.3.4\", \"failureMessage\": \"\", \"exceptionClass\": \"\", \"trace\": \"\"}}, \"*\")"
      ],
      "text/plain": [
       "<IPython.core.display.Javascript object>"
      ]
     },
     "metadata": {},
     "output_type": "display_data"
    },
    {
     "data": {
      "text/markdown": [
       "<span style=\"color:#33cc33\">Correct:</span> \n",
       "\n",
       "Fitting an ordinal encoder to a column in the training data creates a corresponding integer-valued label for each unique value **that appears in the training data**. In the case that the validation data contains values that don't also appear in the training data, the encoder will throw an error, because these values won't have an integer assigned to them.  Notice that the `'Condition2'` column in the validation data contains the values `'RRAn'` and `'RRNn'`, but these don't appear in the training data -- thus, if we try to use an ordinal encoder with scikit-learn, the code will throw an error."
      ],
      "text/plain": [
       "Correct: \n",
       "\n",
       "Fitting an ordinal encoder to a column in the training data creates a corresponding integer-valued label for each unique value **that appears in the training data**. In the case that the validation data contains values that don't also appear in the training data, the encoder will throw an error, because these values won't have an integer assigned to them.  Notice that the `'Condition2'` column in the validation data contains the values `'RRAn'` and `'RRNn'`, but these don't appear in the training data -- thus, if we try to use an ordinal encoder with scikit-learn, the code will throw an error."
      ]
     },
     "metadata": {},
     "output_type": "display_data"
    }
   ],
   "source": [
    "# Check your answer (Run this code cell to receive credit!)\n",
    "\n",
    "step_2.a.check()"
   ]
  },
  {
   "cell_type": "code",
   "execution_count": 10,
   "id": "bc730861",
   "metadata": {
    "execution": {
     "iopub.execute_input": "2022-05-01T16:29:08.437383Z",
     "iopub.status.busy": "2022-05-01T16:29:08.436888Z",
     "iopub.status.idle": "2022-05-01T16:29:08.442871Z",
     "shell.execute_reply": "2022-05-01T16:29:08.442362Z"
    },
    "papermill": {
     "duration": 0.050607,
     "end_time": "2022-05-01T16:29:08.444598",
     "exception": false,
     "start_time": "2022-05-01T16:29:08.393991",
     "status": "completed"
    },
    "tags": []
   },
   "outputs": [
    {
     "data": {
      "application/javascript": [
       "parent.postMessage({\"jupyterEvent\": \"custom.exercise_interaction\", \"data\": {\"interactionType\": 2, \"questionType\": 4, \"questionId\": \"2.1_LabelA\", \"learnToolsVersion\": \"0.3.4\", \"valueTowardsCompletion\": 0.0, \"failureMessage\": \"\", \"exceptionClass\": \"\", \"trace\": \"\", \"outcomeType\": 4}}, \"*\")"
      ],
      "text/plain": [
       "<IPython.core.display.Javascript object>"
      ]
     },
     "metadata": {},
     "output_type": "display_data"
    },
    {
     "data": {
      "text/markdown": [
       "<span style=\"color:#3366cc\">Hint:</span> Are there any values that appear in the validation data but not in the training data?"
      ],
      "text/plain": [
       "Hint: Are there any values that appear in the validation data but not in the training data?"
      ]
     },
     "metadata": {},
     "output_type": "display_data"
    }
   ],
   "source": [
    "step_2.a.hint()"
   ]
  },
  {
   "cell_type": "markdown",
   "id": "4c8869e7",
   "metadata": {
    "papermill": {
     "duration": 0.043095,
     "end_time": "2022-05-01T16:29:08.530261",
     "exception": false,
     "start_time": "2022-05-01T16:29:08.487166",
     "status": "completed"
    },
    "tags": []
   },
   "source": [
    "This is a common problem that you'll encounter with real-world data, and there are many approaches to fixing this issue.  For instance, you can write a custom ordinal encoder to deal with new categories.  The simplest approach, however, is to drop the problematic categorical columns.  \n",
    "\n",
    "Run the code cell below to save the problematic columns to a Python list `bad_label_cols`.  Likewise, columns that can be safely ordinal encoded are stored in `good_label_cols`."
   ]
  },
  {
   "cell_type": "code",
   "execution_count": 11,
   "id": "b5398d90",
   "metadata": {
    "execution": {
     "iopub.execute_input": "2022-05-01T16:29:08.620178Z",
     "iopub.status.busy": "2022-05-01T16:29:08.619683Z",
     "iopub.status.idle": "2022-05-01T16:29:08.634940Z",
     "shell.execute_reply": "2022-05-01T16:29:08.634393Z"
    },
    "papermill": {
     "duration": 0.062512,
     "end_time": "2022-05-01T16:29:08.637492",
     "exception": false,
     "start_time": "2022-05-01T16:29:08.574980",
     "status": "completed"
    },
    "tags": []
   },
   "outputs": [
    {
     "name": "stdout",
     "output_type": "stream",
     "text": [
      "Categorical columns that will be ordinal encoded: ['MSZoning', 'Street', 'LotShape', 'LandContour', 'Utilities', 'LotConfig', 'LandSlope', 'Neighborhood', 'Condition1', 'BldgType', 'HouseStyle', 'RoofStyle', 'Exterior1st', 'Exterior2nd', 'ExterQual', 'ExterCond', 'Foundation', 'Heating', 'HeatingQC', 'CentralAir', 'KitchenQual', 'PavedDrive', 'SaleType', 'SaleCondition']\n",
      "\n",
      "Categorical columns that will be dropped from the dataset: ['Functional', 'Condition2', 'RoofMatl']\n"
     ]
    }
   ],
   "source": [
    "# Categorical columns in the training data\n",
    "object_cols = [col for col in X_train.columns if X_train[col].dtype == \"object\"]\n",
    "\n",
    "# Columns that can be safely ordinal encoded\n",
    "good_label_cols = [col for col in object_cols if \n",
    "                   set(X_valid[col]).issubset(set(X_train[col]))]\n",
    "        \n",
    "# Problematic columns that will be dropped from the dataset\n",
    "bad_label_cols = list(set(object_cols)-set(good_label_cols))\n",
    "        \n",
    "print('Categorical columns that will be ordinal encoded:', good_label_cols)\n",
    "print('\\nCategorical columns that will be dropped from the dataset:', bad_label_cols)"
   ]
  },
  {
   "cell_type": "markdown",
   "id": "b52c99ae",
   "metadata": {
    "papermill": {
     "duration": 0.047606,
     "end_time": "2022-05-01T16:29:08.729749",
     "exception": false,
     "start_time": "2022-05-01T16:29:08.682143",
     "status": "completed"
    },
    "tags": []
   },
   "source": [
    "### Part B\n",
    "\n",
    "Use the next code cell to ordinal encode the data in `X_train` and `X_valid`.  Set the preprocessed DataFrames to `label_X_train` and `label_X_valid`, respectively.  \n",
    "- We have provided code below to drop the categorical columns in `bad_label_cols` from the dataset. \n",
    "- You should ordinal encode the categorical columns in `good_label_cols`.  "
   ]
  },
  {
   "cell_type": "code",
   "execution_count": 12,
   "id": "d878f802",
   "metadata": {
    "execution": {
     "iopub.execute_input": "2022-05-01T16:29:08.821739Z",
     "iopub.status.busy": "2022-05-01T16:29:08.821090Z",
     "iopub.status.idle": "2022-05-01T16:29:08.869363Z",
     "shell.execute_reply": "2022-05-01T16:29:08.868629Z"
    },
    "papermill": {
     "duration": 0.098706,
     "end_time": "2022-05-01T16:29:08.872227",
     "exception": false,
     "start_time": "2022-05-01T16:29:08.773521",
     "status": "completed"
    },
    "tags": []
   },
   "outputs": [
    {
     "data": {
      "application/javascript": [
       "parent.postMessage({\"jupyterEvent\": \"custom.exercise_interaction\", \"data\": {\"outcomeType\": 1, \"valueTowardsCompletion\": 0.5, \"interactionType\": 1, \"questionType\": 2, \"questionId\": \"2.2_LabelB\", \"learnToolsVersion\": \"0.3.4\", \"failureMessage\": \"\", \"exceptionClass\": \"\", \"trace\": \"\"}}, \"*\")"
      ],
      "text/plain": [
       "<IPython.core.display.Javascript object>"
      ]
     },
     "metadata": {},
     "output_type": "display_data"
    },
    {
     "data": {
      "text/markdown": [
       "<span style=\"color:#33cc33\">Correct</span>"
      ],
      "text/plain": [
       "Correct"
      ]
     },
     "metadata": {},
     "output_type": "display_data"
    }
   ],
   "source": [
    "from sklearn.preprocessing import OrdinalEncoder\n",
    "\n",
    "# Drop categorical columns that will not be encoded\n",
    "label_X_train = X_train.drop(bad_label_cols, axis=1)\n",
    "label_X_valid = X_valid.drop(bad_label_cols, axis=1)\n",
    "ordinal_encoder = OrdinalEncoder()\n",
    "# Apply ordinal encoder \n",
    "label_X_train[good_label_cols] = ordinal_encoder.fit_transform(X_train[good_label_cols])\n",
    "label_X_valid[good_label_cols] = ordinal_encoder.transform(X_valid[good_label_cols])\n",
    "# Your code here\n",
    "    \n",
    "# Check your answer\n",
    "step_2.b.check()"
   ]
  },
  {
   "cell_type": "code",
   "execution_count": 13,
   "id": "23df6908",
   "metadata": {
    "execution": {
     "iopub.execute_input": "2022-05-01T16:29:08.964806Z",
     "iopub.status.busy": "2022-05-01T16:29:08.964275Z",
     "iopub.status.idle": "2022-05-01T16:29:08.967196Z",
     "shell.execute_reply": "2022-05-01T16:29:08.966691Z"
    },
    "papermill": {
     "duration": 0.051554,
     "end_time": "2022-05-01T16:29:08.969005",
     "exception": false,
     "start_time": "2022-05-01T16:29:08.917451",
     "status": "completed"
    },
    "tags": []
   },
   "outputs": [],
   "source": [
    "# Lines below will give you a hint or solution code\n",
    "#step_2.b.hint()\n",
    "#step_2.b.solution()"
   ]
  },
  {
   "cell_type": "markdown",
   "id": "7efde003",
   "metadata": {
    "papermill": {
     "duration": 0.044607,
     "end_time": "2022-05-01T16:29:09.059252",
     "exception": false,
     "start_time": "2022-05-01T16:29:09.014645",
     "status": "completed"
    },
    "tags": []
   },
   "source": [
    "Run the next code cell to get the MAE for this approach."
   ]
  },
  {
   "cell_type": "code",
   "execution_count": 14,
   "id": "3e1c0ed5",
   "metadata": {
    "execution": {
     "iopub.execute_input": "2022-05-01T16:29:09.149631Z",
     "iopub.status.busy": "2022-05-01T16:29:09.149103Z",
     "iopub.status.idle": "2022-05-01T16:29:12.026045Z",
     "shell.execute_reply": "2022-05-01T16:29:12.025419Z"
    },
    "papermill": {
     "duration": 2.92531,
     "end_time": "2022-05-01T16:29:12.028738",
     "exception": false,
     "start_time": "2022-05-01T16:29:09.103428",
     "status": "completed"
    },
    "tags": []
   },
   "outputs": [
    {
     "name": "stdout",
     "output_type": "stream",
     "text": [
      "MAE from Approach 2 (Ordinal Encoding):\n",
      "16814.482208904108\n"
     ]
    }
   ],
   "source": [
    "print(\"MAE from Approach 2 (Ordinal Encoding):\") \n",
    "print(score_dataset(label_X_train, label_X_valid, y_train, y_valid))"
   ]
  },
  {
   "cell_type": "markdown",
   "id": "88244d2b",
   "metadata": {
    "papermill": {
     "duration": 0.047414,
     "end_time": "2022-05-01T16:29:12.131934",
     "exception": false,
     "start_time": "2022-05-01T16:29:12.084520",
     "status": "completed"
    },
    "tags": []
   },
   "source": [
    "So far, you've tried two different approaches to dealing with categorical variables.  And, you've seen that encoding categorical data yields better results than removing columns from the dataset.\n",
    "\n",
    "Soon, you'll try one-hot encoding.  Before then, there's one additional topic we need to cover.  Begin by running the next code cell without changes.  "
   ]
  },
  {
   "cell_type": "markdown",
   "id": "ffd8be4f",
   "metadata": {
    "execution": {
     "iopub.execute_input": "2021-08-27T16:53:34.891367Z",
     "iopub.status.busy": "2021-08-27T16:53:34.890512Z",
     "iopub.status.idle": "2021-08-27T16:53:34.912478Z",
     "shell.execute_reply": "2021-08-27T16:53:34.911456Z",
     "shell.execute_reply.started": "2021-08-27T16:53:34.891314Z"
    },
    "papermill": {
     "duration": 0.049068,
     "end_time": "2022-05-01T16:29:12.227370",
     "exception": false,
     "start_time": "2022-05-01T16:29:12.178302",
     "status": "completed"
    },
    "tags": []
   },
   "source": [
    "### Get number of unique entries in each column with categorical data\n",
    "object_nunique = list(map(lambda col: X_train[col].nunique(), object_cols))\n",
    "d = dict(zip(object_cols, object_nunique))\n",
    "\n",
    "# Print number of unique entries by column, in ascending order\n",
    "sorted(d.items(), key=lambda x: x[1])\n",
    "i=0\n",
    "for x,v in d.items():\n",
    "    if v>10:\n",
    "        i+=1\n",
    "print(i)"
   ]
  },
  {
   "cell_type": "code",
   "execution_count": 15,
   "id": "e7a36dbd",
   "metadata": {
    "execution": {
     "iopub.execute_input": "2022-05-01T16:29:12.319529Z",
     "iopub.status.busy": "2022-05-01T16:29:12.319213Z",
     "iopub.status.idle": "2022-05-01T16:29:12.331469Z",
     "shell.execute_reply": "2022-05-01T16:29:12.330580Z"
    },
    "papermill": {
     "duration": 0.060692,
     "end_time": "2022-05-01T16:29:12.333495",
     "exception": false,
     "start_time": "2022-05-01T16:29:12.272803",
     "status": "completed"
    },
    "tags": []
   },
   "outputs": [
    {
     "name": "stdout",
     "output_type": "stream",
     "text": [
      "25\n"
     ]
    }
   ],
   "source": [
    "object_nunique = list(map(lambda col: X_train[col].nunique(), object_cols))\n",
    "d = dict(zip(object_cols, object_nunique))\n",
    "\n",
    "# Print number of unique entries by column, in ascending order\n",
    "sorted(d.items(), key=lambda x: x[1])\n",
    "i=0\n",
    "for x,v in d.items():\n",
    "    if v>10:\n",
    "        i+=1\n",
    "print(d['Neighborhood'])"
   ]
  },
  {
   "cell_type": "markdown",
   "id": "055ec7c3",
   "metadata": {
    "papermill": {
     "duration": 0.046228,
     "end_time": "2022-05-01T16:29:12.426900",
     "exception": false,
     "start_time": "2022-05-01T16:29:12.380672",
     "status": "completed"
    },
    "tags": []
   },
   "source": [
    "# Step 3: Investigating cardinality\n",
    "\n",
    "### Part A\n",
    "\n",
    "The output above shows, for each column with categorical data, the number of unique values in the column.  For instance, the `'Street'` column in the training data has two unique values: `'Grvl'` and `'Pave'`, corresponding to a gravel road and a paved road, respectively.\n",
    "\n",
    "We refer to the number of unique entries of a categorical variable as the **cardinality** of that categorical variable.  For instance, the `'Street'` variable has cardinality 2.\n",
    "\n",
    "Use the output above to answer the questions below."
   ]
  },
  {
   "cell_type": "code",
   "execution_count": 16,
   "id": "a6c3a3d0",
   "metadata": {
    "execution": {
     "iopub.execute_input": "2022-05-01T16:29:12.522629Z",
     "iopub.status.busy": "2022-05-01T16:29:12.522293Z",
     "iopub.status.idle": "2022-05-01T16:29:12.530206Z",
     "shell.execute_reply": "2022-05-01T16:29:12.529356Z"
    },
    "papermill": {
     "duration": 0.056959,
     "end_time": "2022-05-01T16:29:12.532244",
     "exception": false,
     "start_time": "2022-05-01T16:29:12.475285",
     "status": "completed"
    },
    "tags": []
   },
   "outputs": [
    {
     "data": {
      "application/javascript": [
       "parent.postMessage({\"jupyterEvent\": \"custom.exercise_interaction\", \"data\": {\"outcomeType\": 1, \"valueTowardsCompletion\": 0.5, \"interactionType\": 1, \"questionType\": 1, \"questionId\": \"3.1_CardinalityA\", \"learnToolsVersion\": \"0.3.4\", \"failureMessage\": \"\", \"exceptionClass\": \"\", \"trace\": \"\"}}, \"*\")"
      ],
      "text/plain": [
       "<IPython.core.display.Javascript object>"
      ]
     },
     "metadata": {},
     "output_type": "display_data"
    },
    {
     "data": {
      "text/markdown": [
       "<span style=\"color:#33cc33\">Correct</span>"
      ],
      "text/plain": [
       "Correct"
      ]
     },
     "metadata": {},
     "output_type": "display_data"
    }
   ],
   "source": [
    "# Fill in the line below: How many categorical variables in the training data\n",
    "# have cardinality greater than 10?\n",
    "high_cardinality_numcols = 3\n",
    "\n",
    "# Fill in the line below: How many columns are needed to one-hot encode the \n",
    "# 'Neighborhood' variable in the training data?\n",
    "num_cols_neighborhood = 25\n",
    "\n",
    "# Check your answers\n",
    "step_3.a.check()"
   ]
  },
  {
   "cell_type": "code",
   "execution_count": 17,
   "id": "be14bcff",
   "metadata": {
    "execution": {
     "iopub.execute_input": "2022-05-01T16:29:12.628183Z",
     "iopub.status.busy": "2022-05-01T16:29:12.627622Z",
     "iopub.status.idle": "2022-05-01T16:29:12.631334Z",
     "shell.execute_reply": "2022-05-01T16:29:12.630783Z"
    },
    "papermill": {
     "duration": 0.054341,
     "end_time": "2022-05-01T16:29:12.633348",
     "exception": false,
     "start_time": "2022-05-01T16:29:12.579007",
     "status": "completed"
    },
    "tags": []
   },
   "outputs": [],
   "source": [
    "# Lines below will give you a hint or solution code\n",
    "#step_3.a.hint()\n",
    "#step_3.a.solution()"
   ]
  },
  {
   "cell_type": "markdown",
   "id": "4bf4482c",
   "metadata": {
    "papermill": {
     "duration": 0.046168,
     "end_time": "2022-05-01T16:29:12.726253",
     "exception": false,
     "start_time": "2022-05-01T16:29:12.680085",
     "status": "completed"
    },
    "tags": []
   },
   "source": [
    "### Part B\n",
    "\n",
    "For large datasets with many rows, one-hot encoding can greatly expand the size of the dataset.  For this reason, we typically will only one-hot encode columns with relatively low cardinality.  Then, high cardinality columns can either be dropped from the dataset, or we can use ordinal encoding.\n",
    "\n",
    "As an example, consider a dataset with 10,000 rows, and containing one categorical column with 100 unique entries.  \n",
    "- If this column is replaced with the corresponding one-hot encoding, how many entries are added to the dataset?  \n",
    "- If we instead replace the column with the ordinal encoding, how many entries are added?  \n",
    "\n",
    "Use your answers to fill in the lines below."
   ]
  },
  {
   "cell_type": "code",
   "execution_count": 18,
   "id": "4ea262ed",
   "metadata": {
    "execution": {
     "iopub.execute_input": "2022-05-01T16:29:12.821104Z",
     "iopub.status.busy": "2022-05-01T16:29:12.820557Z",
     "iopub.status.idle": "2022-05-01T16:29:12.828943Z",
     "shell.execute_reply": "2022-05-01T16:29:12.828373Z"
    },
    "papermill": {
     "duration": 0.058012,
     "end_time": "2022-05-01T16:29:12.830819",
     "exception": false,
     "start_time": "2022-05-01T16:29:12.772807",
     "status": "completed"
    },
    "tags": []
   },
   "outputs": [
    {
     "data": {
      "application/javascript": [
       "parent.postMessage({\"jupyterEvent\": \"custom.exercise_interaction\", \"data\": {\"outcomeType\": 1, \"valueTowardsCompletion\": 0.5, \"interactionType\": 1, \"questionType\": 1, \"questionId\": \"3.2_CardinalityB\", \"learnToolsVersion\": \"0.3.4\", \"failureMessage\": \"\", \"exceptionClass\": \"\", \"trace\": \"\"}}, \"*\")"
      ],
      "text/plain": [
       "<IPython.core.display.Javascript object>"
      ]
     },
     "metadata": {},
     "output_type": "display_data"
    },
    {
     "data": {
      "text/markdown": [
       "<span style=\"color:#33cc33\">Correct</span>"
      ],
      "text/plain": [
       "Correct"
      ]
     },
     "metadata": {},
     "output_type": "display_data"
    }
   ],
   "source": [
    "# Fill in the line below: How many entries are added to the dataset by \n",
    "# replacing the column with a one-hot encoding?\n",
    "OH_entries_added = 1e4*100 - 1e4\n",
    "# Fill in the line below: How many entries are added to the dataset by\n",
    "# replacing the column with an ordinal encoding?\n",
    "label_entries_added = 0\n",
    "\n",
    "# Check your answers\n",
    "step_3.b.check()"
   ]
  },
  {
   "cell_type": "code",
   "execution_count": 19,
   "id": "50648db6",
   "metadata": {
    "execution": {
     "iopub.execute_input": "2022-05-01T16:29:12.928046Z",
     "iopub.status.busy": "2022-05-01T16:29:12.927477Z",
     "iopub.status.idle": "2022-05-01T16:29:12.931062Z",
     "shell.execute_reply": "2022-05-01T16:29:12.930541Z"
    },
    "papermill": {
     "duration": 0.054386,
     "end_time": "2022-05-01T16:29:12.932943",
     "exception": false,
     "start_time": "2022-05-01T16:29:12.878557",
     "status": "completed"
    },
    "tags": []
   },
   "outputs": [],
   "source": [
    "# Lines below will give you a hint or solution code\n",
    "# step_3.b.hint()\n",
    "# step_3.b.solution()"
   ]
  },
  {
   "cell_type": "markdown",
   "id": "533f1b78",
   "metadata": {
    "papermill": {
     "duration": 0.048183,
     "end_time": "2022-05-01T16:29:13.029126",
     "exception": false,
     "start_time": "2022-05-01T16:29:12.980943",
     "status": "completed"
    },
    "tags": []
   },
   "source": [
    "Next, you'll experiment with one-hot encoding.  But, instead of encoding all of the categorical variables in the dataset, you'll only create a one-hot encoding for columns with cardinality less than 10.\n",
    "\n",
    "Run the code cell below without changes to set `low_cardinality_cols` to a Python list containing the columns that will be one-hot encoded.  Likewise, `high_cardinality_cols` contains a list of categorical columns that will be dropped from the dataset."
   ]
  },
  {
   "cell_type": "code",
   "execution_count": 20,
   "id": "2976281f",
   "metadata": {
    "execution": {
     "iopub.execute_input": "2022-05-01T16:29:13.131221Z",
     "iopub.status.busy": "2022-05-01T16:29:13.130912Z",
     "iopub.status.idle": "2022-05-01T16:29:13.146675Z",
     "shell.execute_reply": "2022-05-01T16:29:13.145564Z"
    },
    "papermill": {
     "duration": 0.070241,
     "end_time": "2022-05-01T16:29:13.149430",
     "exception": false,
     "start_time": "2022-05-01T16:29:13.079189",
     "status": "completed"
    },
    "tags": []
   },
   "outputs": [
    {
     "name": "stdout",
     "output_type": "stream",
     "text": [
      "Categorical columns that will be one-hot encoded: ['MSZoning', 'Street', 'LotShape', 'LandContour', 'Utilities', 'LotConfig', 'LandSlope', 'Condition1', 'Condition2', 'BldgType', 'HouseStyle', 'RoofStyle', 'RoofMatl', 'ExterQual', 'ExterCond', 'Foundation', 'Heating', 'HeatingQC', 'CentralAir', 'KitchenQual', 'Functional', 'PavedDrive', 'SaleType', 'SaleCondition']\n",
      "\n",
      "Categorical columns that will be dropped from the dataset: ['Exterior2nd', 'Neighborhood', 'Exterior1st']\n"
     ]
    }
   ],
   "source": [
    "# Columns that will be one-hot encoded\n",
    "low_cardinality_cols = [col for col in object_cols if X_train[col].nunique() < 10]\n",
    "\n",
    "# Columns that will be dropped from the dataset\n",
    "high_cardinality_cols = list(set(object_cols)-set(low_cardinality_cols))\n",
    "\n",
    "print('Categorical columns that will be one-hot encoded:', low_cardinality_cols)\n",
    "print('\\nCategorical columns that will be dropped from the dataset:', high_cardinality_cols)"
   ]
  },
  {
   "cell_type": "markdown",
   "id": "e5222c73",
   "metadata": {
    "papermill": {
     "duration": 0.05436,
     "end_time": "2022-05-01T16:29:13.271965",
     "exception": false,
     "start_time": "2022-05-01T16:29:13.217605",
     "status": "completed"
    },
    "tags": []
   },
   "source": [
    "# Step 4: One-hot encoding\n",
    "\n",
    "Use the next code cell to one-hot encode the data in `X_train` and `X_valid`.  Set the preprocessed DataFrames to `OH_X_train` and `OH_X_valid`, respectively.  \n",
    "- The full list of categorical columns in the dataset can be found in the Python list `object_cols`.\n",
    "- You should only one-hot encode the categorical columns in `low_cardinality_cols`.  All other categorical columns should be dropped from the dataset. "
   ]
  },
  {
   "cell_type": "code",
   "execution_count": 21,
   "id": "9ee340f3",
   "metadata": {
    "execution": {
     "iopub.execute_input": "2022-05-01T16:29:13.374406Z",
     "iopub.status.busy": "2022-05-01T16:29:13.373612Z",
     "iopub.status.idle": "2022-05-01T16:29:13.415699Z",
     "shell.execute_reply": "2022-05-01T16:29:13.414882Z"
    },
    "papermill": {
     "duration": 0.098221,
     "end_time": "2022-05-01T16:29:13.418164",
     "exception": false,
     "start_time": "2022-05-01T16:29:13.319943",
     "status": "completed"
    },
    "tags": []
   },
   "outputs": [
    {
     "data": {
      "application/javascript": [
       "parent.postMessage({\"jupyterEvent\": \"custom.exercise_interaction\", \"data\": {\"outcomeType\": 1, \"valueTowardsCompletion\": 0.5, \"interactionType\": 1, \"questionType\": 2, \"questionId\": \"4_OneHot\", \"learnToolsVersion\": \"0.3.4\", \"failureMessage\": \"\", \"exceptionClass\": \"\", \"trace\": \"\"}}, \"*\")"
      ],
      "text/plain": [
       "<IPython.core.display.Javascript object>"
      ]
     },
     "metadata": {},
     "output_type": "display_data"
    },
    {
     "data": {
      "text/markdown": [
       "<span style=\"color:#33cc33\">Correct</span>"
      ],
      "text/plain": [
       "Correct"
      ]
     },
     "metadata": {},
     "output_type": "display_data"
    }
   ],
   "source": [
    "from sklearn.preprocessing import OneHotEncoder\n",
    "\n",
    "OH_encoder = OneHotEncoder(handle_unknown='ignore', sparse=False)\n",
    "# Use as many lines of code as you need!\n",
    "OH_cols_train = pd.DataFrame(OH_encoder.fit_transform(X_train[low_cardinality_cols]))\n",
    "OH_cols_valid = pd.DataFrame(OH_encoder.transform(X_valid[low_cardinality_cols]))\n",
    "\n",
    "OH_cols_train.index = X_train.index\n",
    "OH_cols_valid.index = X_valid.index\n",
    "\n",
    "num_X_train = X_train.drop(object_cols, axis=1)\n",
    "num_X_valid = X_valid.drop(object_cols, axis=1)\n",
    "\n",
    "OH_X_train = pd.concat([num_X_train, OH_cols_train], axis=1) # Your code here\n",
    "OH_X_valid = pd.concat([num_X_valid, OH_cols_valid], axis=1) # Your code here\n",
    "\n",
    "# Check your answer\n",
    "step_4.check()"
   ]
  },
  {
   "cell_type": "code",
   "execution_count": 22,
   "id": "04a7369e",
   "metadata": {
    "execution": {
     "iopub.execute_input": "2022-05-01T16:29:13.522338Z",
     "iopub.status.busy": "2022-05-01T16:29:13.522081Z",
     "iopub.status.idle": "2022-05-01T16:29:13.525349Z",
     "shell.execute_reply": "2022-05-01T16:29:13.524552Z"
    },
    "papermill": {
     "duration": 0.058992,
     "end_time": "2022-05-01T16:29:13.527575",
     "exception": false,
     "start_time": "2022-05-01T16:29:13.468583",
     "status": "completed"
    },
    "tags": []
   },
   "outputs": [],
   "source": [
    "# Lines below will give you a hint or solution code\n",
    "#step_4.hint()\n",
    "#step_4.solution()"
   ]
  },
  {
   "cell_type": "markdown",
   "id": "8ca965e5",
   "metadata": {
    "papermill": {
     "duration": 0.05548,
     "end_time": "2022-05-01T16:29:13.634696",
     "exception": false,
     "start_time": "2022-05-01T16:29:13.579216",
     "status": "completed"
    },
    "tags": []
   },
   "source": [
    "Run the next code cell to get the MAE for this approach."
   ]
  },
  {
   "cell_type": "code",
   "execution_count": 23,
   "id": "b98a6225",
   "metadata": {
    "execution": {
     "iopub.execute_input": "2022-05-01T16:29:13.741863Z",
     "iopub.status.busy": "2022-05-01T16:29:13.741419Z",
     "iopub.status.idle": "2022-05-01T16:29:17.261424Z",
     "shell.execute_reply": "2022-05-01T16:29:17.260056Z"
    },
    "papermill": {
     "duration": 3.576194,
     "end_time": "2022-05-01T16:29:17.264126",
     "exception": false,
     "start_time": "2022-05-01T16:29:13.687932",
     "status": "completed"
    },
    "tags": []
   },
   "outputs": [
    {
     "name": "stdout",
     "output_type": "stream",
     "text": [
      "MAE from Approach 3 (One-Hot Encoding):\n"
     ]
    },
    {
     "name": "stderr",
     "output_type": "stream",
     "text": [
      "/opt/conda/lib/python3.7/site-packages/sklearn/utils/validation.py:1692: FutureWarning: Feature names only support names that are all strings. Got feature names with dtypes: ['int', 'str']. An error will be raised in 1.2.\n",
      "  FutureWarning,\n"
     ]
    },
    {
     "name": "stdout",
     "output_type": "stream",
     "text": [
      "17184.68566210046\n"
     ]
    },
    {
     "name": "stderr",
     "output_type": "stream",
     "text": [
      "/opt/conda/lib/python3.7/site-packages/sklearn/utils/validation.py:1692: FutureWarning: Feature names only support names that are all strings. Got feature names with dtypes: ['int', 'str']. An error will be raised in 1.2.\n",
      "  FutureWarning,\n"
     ]
    }
   ],
   "source": [
    "print(\"MAE from Approach 3 (One-Hot Encoding):\") \n",
    "print(score_dataset(OH_X_train, OH_X_valid, y_train, y_valid))"
   ]
  },
  {
   "cell_type": "markdown",
   "id": "2c57ae54",
   "metadata": {
    "papermill": {
     "duration": 0.05286,
     "end_time": "2022-05-01T16:29:17.368471",
     "exception": false,
     "start_time": "2022-05-01T16:29:17.315611",
     "status": "completed"
    },
    "tags": []
   },
   "source": [
    "# Generate test predictions and submit your results\n",
    "\n",
    "After you complete Step 4, if you'd like to use what you've learned to submit your results to the leaderboard, you'll need to preprocess the test data before generating predictions.\n",
    "\n",
    "**This step is completely optional, and you do not need to submit results to the leaderboard to successfully complete the exercise.**\n",
    "\n",
    "Check out the previous exercise if you need help with remembering how to [join the competition](https://www.kaggle.com/c/home-data-for-ml-course) or save your results to CSV.  Once you have generated a file with your results, follow the instructions below:\n",
    "1. Begin by clicking on the **Save Version** button in the top right corner of the window.  This will generate a pop-up window.  \n",
    "2. Ensure that the **Save and Run All** option is selected, and then click on the **Save** button.\n",
    "3. This generates a window in the bottom left corner of the notebook.  After it has finished running, click on the number to the right of the **Save Version** button.  This pulls up a list of versions on the right of the screen.  Click on the ellipsis **(...)** to the right of the most recent version, and select **Open in Viewer**.  This brings you into view mode of the same page. You will need to scroll down to get back to these instructions.\n",
    "4. Click on the **Output** tab on the right of the screen.  Then, click on the file you would like to submit, and click on the blue **Submit** button to submit your results to the leaderboard.\n",
    "\n",
    "You have now successfully submitted to the competition!\n",
    "\n",
    "If you want to keep working to improve your performance, select the **Edit** button in the top right of the screen. Then you can change your code and repeat the process. There's a lot of room to improve, and you will climb up the leaderboard as you work.\n"
   ]
  },
  {
   "cell_type": "code",
   "execution_count": 24,
   "id": "c77c59a2",
   "metadata": {
    "execution": {
     "iopub.execute_input": "2022-05-01T16:29:17.472162Z",
     "iopub.status.busy": "2022-05-01T16:29:17.471651Z",
     "iopub.status.idle": "2022-05-01T16:29:17.516690Z",
     "shell.execute_reply": "2022-05-01T16:29:17.515234Z"
    },
    "papermill": {
     "duration": 0.099331,
     "end_time": "2022-05-01T16:29:17.518761",
     "exception": false,
     "start_time": "2022-05-01T16:29:17.419430",
     "status": "completed"
    },
    "tags": []
   },
   "outputs": [
    {
     "name": "stdout",
     "output_type": "stream",
     "text": [
      "(1459, 60)\n",
      "(1459, 53)\n"
     ]
    }
   ],
   "source": [
    "# Categorical columns in the training data\n",
    "import numpy as np\n",
    "object_test_cols = [col for col in X_test.columns if X_test[col].dtype == \"object\"]\n",
    "\n",
    "# Columns that can be safely ordinal encoded\n",
    "good_label_test_cols = [col for col in object_test_cols if \n",
    "                   set(X_test[col]).issubset(set(X_train[col]))]\n",
    "        \n",
    "# Problematic columns that will be dropped from the dataset\n",
    "bad_label_test_cols = list(set(object_test_cols)-set(good_label_test_cols))\n",
    "\n",
    "model = RandomForestRegressor(n_estimators=200, random_state=0)\n",
    "\n",
    "# (Optional) Your code here\n",
    "print(X_test.shape)\n",
    "label_X_test = X_test.drop(bad_label_test_cols, axis=1)\n",
    "print(label_X_test.shape)\n",
    "# Apply ordinal encoder \n",
    "label_X_test[good_label_test_cols] = ordinal_encoder.fit_transform(X_test[good_label_test_cols])\n",
    "\n",
    "final_X_test = pd.DataFrame(label_X_test).fillna(0)"
   ]
  },
  {
   "cell_type": "markdown",
   "id": "5c0d5f5e",
   "metadata": {
    "papermill": {
     "duration": 0.051039,
     "end_time": "2022-05-01T16:29:17.621100",
     "exception": false,
     "start_time": "2022-05-01T16:29:17.570061",
     "status": "completed"
    },
    "tags": []
   },
   "source": [
    "# Keep going\n",
    "\n",
    "With missing value handling and categorical encoding, your modeling process is getting complex. This complexity gets worse when you want to save your model to use in the future. The key to managing this complexity is something called **pipelines**. \n",
    "\n",
    "**[Learn to use pipelines](https://www.kaggle.com/alexisbcook/pipelines)** to preprocess datasets with categorical variables, missing values and any other messiness your data throws at you."
   ]
  },
  {
   "cell_type": "markdown",
   "id": "1cd41c65",
   "metadata": {
    "papermill": {
     "duration": 0.050811,
     "end_time": "2022-05-01T16:29:17.723866",
     "exception": false,
     "start_time": "2022-05-01T16:29:17.673055",
     "status": "completed"
    },
    "tags": []
   },
   "source": [
    "---\n",
    "\n",
    "\n",
    "\n",
    "\n",
    "*Have questions or comments? Visit the [Learn Discussion forum](https://www.kaggle.com/learn-forum/161289) to chat with other Learners.*"
   ]
  }
 ],
 "metadata": {
  "kernelspec": {
   "display_name": "Python 3",
   "language": "python",
   "name": "python3"
  },
  "language_info": {
   "codemirror_mode": {
    "name": "ipython",
    "version": 3
   },
   "file_extension": ".py",
   "mimetype": "text/x-python",
   "name": "python",
   "nbconvert_exporter": "python",
   "pygments_lexer": "ipython3",
   "version": "3.7.12"
  },
  "papermill": {
   "default_parameters": {},
   "duration": 25.546265,
   "end_time": "2022-05-01T16:29:18.495498",
   "environment_variables": {},
   "exception": null,
   "input_path": "__notebook__.ipynb",
   "output_path": "__notebook__.ipynb",
   "parameters": {},
   "start_time": "2022-05-01T16:28:52.949233",
   "version": "2.3.4"
  }
 },
 "nbformat": 4,
 "nbformat_minor": 5
}
